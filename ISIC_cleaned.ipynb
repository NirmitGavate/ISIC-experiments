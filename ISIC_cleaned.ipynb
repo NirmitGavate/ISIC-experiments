{
  "cells": [
    {
      "cell_type": "markdown",
      "metadata": {
        "id": "view-in-github",
        "colab_type": "text"
      },
      "source": [
        "<a href=\"https://colab.research.google.com/github/NirmitGavate/ISIC-experiments/blob/main/ISIC_cleaned.ipynb\" target=\"_parent\"><img src=\"https://colab.research.google.com/assets/colab-badge.svg\" alt=\"Open In Colab\"/></a>"
      ]
    },
    {
      "cell_type": "code",
      "execution_count": null,
      "metadata": {
        "id": "xDmpxBKaTQit"
      },
      "outputs": [],
      "source": [
        "\"\"\"\n",
        "Contains functions for training and testing a PyTorch model.\n",
        "\"\"\"\n",
        "import torch\n",
        "from tqdm.auto import tqdm\n",
        "from typing import Dict, List, Tuple\n",
        "import numpy as np\n",
        "from sklearn.metrics import precision_recall_fscore_support, roc_auc_score, confusion_matrix\n",
        "\n",
        "def train_step(model: torch.nn.Module,\n",
        "               dataloader: torch.utils.data.DataLoader,\n",
        "               loss_fn: torch.nn.Module,\n",
        "               optimizer: torch.optim.Optimizer,\n",
        "               device: torch.device) -> Tuple[float, float, List[int], List[int], List[List[float]], torch.Tensor, List[str]]:\n",
        "    model.train()\n",
        "    train_loss, train_acc = 0, 0\n",
        "    all_preds = []\n",
        "    all_labels = []\n",
        "    all_probs = []\n",
        "    all_md = []\n",
        "    all_ids = []\n",
        "\n",
        "    for batch, (id, X, y, md) in enumerate(dataloader):\n",
        "        X, y = X.to(device), y.to(device)\n",
        "\n",
        "        y_pred = model(X)\n",
        "        loss = loss_fn(y_pred, y)\n",
        "        train_loss += loss.item()\n",
        "\n",
        "        optimizer.zero_grad()\n",
        "        loss.backward()\n",
        "        optimizer.step()\n",
        "\n",
        "        probs = torch.softmax(y_pred, dim=1)\n",
        "        preds = torch.argmax(probs, dim=1)\n",
        "        train_acc += (preds == y).sum().item() / len(y)\n",
        "\n",
        "        all_preds.extend(preds.cpu().tolist())\n",
        "        all_labels.extend(y.cpu().tolist())\n",
        "        all_probs.extend(probs.cpu().tolist())\n",
        "        all_md.append(md)\n",
        "        all_ids.extend(id)\n",
        "\n",
        "    train_loss /= len(dataloader)\n",
        "    train_acc /= len(dataloader)\n",
        "    all_md_tensor = torch.cat(all_md, dim=0).cpu()\n",
        "\n",
        "    return train_loss, train_acc, all_preds, all_labels, all_probs, all_md_tensor, all_ids\n",
        "\n",
        "\n",
        "def test_step(model: torch.nn.Module,\n",
        "              dataloader: torch.utils.data.DataLoader,\n",
        "              loss_fn: torch.nn.Module,\n",
        "              device: torch.device) -> Tuple[float, float, Dict[str, float], List[List[int]],\n",
        "                                             List[int], List[int], List[List[float]], torch.Tensor, List[str]]:\n",
        "    model.eval()\n",
        "    test_loss, test_acc = 0, 0\n",
        "    all_preds = []\n",
        "    all_labels = []\n",
        "    all_probs = []\n",
        "    all_md = []\n",
        "    all_ids = []\n",
        "\n",
        "    with torch.inference_mode():\n",
        "        for batch, (id, X, y, md) in enumerate(dataloader):\n",
        "            X, y = X.to(device), y.to(device)\n",
        "\n",
        "            logits = model(X)\n",
        "            loss = loss_fn(logits, y)\n",
        "            test_loss += loss.item()\n",
        "\n",
        "            probs = torch.softmax(logits, dim=1)\n",
        "            preds = torch.argmax(probs, dim=1)\n",
        "            test_acc += (preds == y).sum().item() / len(y)\n",
        "\n",
        "            all_preds.extend(preds.cpu().tolist())\n",
        "            all_labels.extend(y.cpu().tolist())\n",
        "            all_probs.extend(probs.cpu().tolist())\n",
        "            all_md.append(md)\n",
        "            all_ids.extend(id)\n",
        "\n",
        "    test_loss /= len(dataloader)\n",
        "    test_acc /= len(dataloader)\n",
        "\n",
        "    precision, recall, f1, _ = precision_recall_fscore_support(\n",
        "        all_labels, all_preds, average=None, zero_division=0)\n",
        "\n",
        "    all_preds = np.array(all_preds)\n",
        "    all_labels = np.array(all_labels)\n",
        "    all_probs = np.array(all_probs)\n",
        "\n",
        "    auc = roc_auc_score(all_labels, all_probs[:, 1])\n",
        "    conf_mat = confusion_matrix(all_labels, all_preds)\n",
        "\n",
        "    metrics_dict = {\n",
        "        \"precision\": precision,\n",
        "        \"recall\": recall,\n",
        "        \"f1\": f1,\n",
        "        \"auc_roc\": auc\n",
        "    }\n",
        "\n",
        "    all_md_tensor = torch.cat(all_md, dim=0).cpu()\n",
        "\n",
        "    return (test_loss, test_acc, metrics_dict, conf_mat.tolist(),\n",
        "            all_preds.tolist(), all_labels.tolist(), all_probs.tolist(), all_md_tensor, all_ids)\n",
        "\n",
        "\n",
        "def train(model: torch.nn.Module,\n",
        "          train_dataloader: torch.utils.data.DataLoader,\n",
        "          test_dataloader: torch.utils.data.DataLoader,\n",
        "          optimizer: torch.optim.Optimizer,\n",
        "          loss_fn: torch.nn.Module,\n",
        "          scheduler: torch.optim.Optimizer,\n",
        "          epochs: int,\n",
        "          device: torch.device) -> Tuple[Dict[str, List], Dict[str, float], Dict, Dict]:\n",
        "\n",
        "    results = {\n",
        "        \"train_loss\": [],\n",
        "        \"train_acc\": [],\n",
        "        \"test_loss\": [],\n",
        "        \"test_acc\": [],\n",
        "        \"precision\": [],\n",
        "        \"recall\": [],\n",
        "        \"f1\": [],\n",
        "        \"auc_roc\": [],\n",
        "        \"conf_matrix\": []\n",
        "    }\n",
        "\n",
        "    # initialize dicts to store only the last epoch's info\n",
        "    full_train_info = {\"labels\": [], \"preds\": [], \"probs\": None, \"metadata\": None, \"ids\": []}\n",
        "    full_test_info = {\"labels\": [], \"preds\": [], \"probs\": None, \"metadata\": None, \"ids\": []}\n",
        "\n",
        "    model.to(device)\n",
        "\n",
        "    for epoch in tqdm(range(epochs)):\n",
        "        train_loss, train_acc, train_preds, train_labels, train_probs, train_md, train_ids = train_step(\n",
        "            model=model,\n",
        "            dataloader=train_dataloader,\n",
        "            loss_fn=loss_fn,\n",
        "            optimizer=optimizer,\n",
        "            device=device)\n",
        "\n",
        "        test_loss, test_acc, metrics_dict, conf_matrix, test_preds, test_labels, test_probs, test_md, test_ids = test_step(\n",
        "            model=model,\n",
        "            dataloader=test_dataloader,\n",
        "            loss_fn=loss_fn,\n",
        "            device=device)\n",
        "\n",
        "        # scheduler.step(test_loss)  # optional\n",
        "\n",
        "        print(\n",
        "            f\"Epoch: {epoch+1} | \"\n",
        "            f\"train_loss: {train_loss:.4f} | train_acc: {train_acc:.4f} | \"\n",
        "            f\"test_loss: {test_loss:.4f} | test_acc: {test_acc:.4f}\"\n",
        "        )\n",
        "        print(\"Precision per class:\", metrics_dict[\"precision\"])\n",
        "        print(\"Recall per class:   \", metrics_dict[\"recall\"])\n",
        "        print(\"F1-score per class: \", metrics_dict[\"f1\"])\n",
        "        print(\"AUC-ROC (ovr):      \", metrics_dict[\"auc_roc\"])\n",
        "        print(\"Confusion Matrix:\\n\", conf_matrix)\n",
        "\n",
        "        # Store metrics per epoch\n",
        "        results[\"train_loss\"].append(train_loss)\n",
        "        results[\"train_acc\"].append(train_acc)\n",
        "        results[\"test_loss\"].append(test_loss)\n",
        "        results[\"test_acc\"].append(test_acc)\n",
        "        results[\"precision\"].append(metrics_dict[\"precision\"].tolist())\n",
        "        results[\"recall\"].append(metrics_dict[\"recall\"].tolist())\n",
        "        results[\"f1\"].append(metrics_dict[\"f1\"].tolist())\n",
        "        results[\"auc_roc\"].append(metrics_dict[\"auc_roc\"])\n",
        "        results[\"conf_matrix\"].append(conf_matrix)\n",
        "\n",
        "        # Save only the last epoch's metadata/probs\n",
        "        if epoch == epochs - 1:\n",
        "            full_train_info[\"labels\"] = train_labels\n",
        "            full_train_info[\"preds\"] = train_preds\n",
        "            full_train_info[\"probs\"] = np.array(train_probs)\n",
        "            full_train_info[\"metadata\"] = train_md.cpu().numpy()\n",
        "            full_train_info[\"ids\"] = train_ids\n",
        "\n",
        "            full_test_info[\"labels\"] = test_labels\n",
        "            full_test_info[\"preds\"] = test_preds\n",
        "            full_test_info[\"probs\"] = np.array(test_probs)\n",
        "            full_test_info[\"metadata\"] = test_md.cpu().numpy()\n",
        "            full_test_info[\"ids\"] = test_ids\n",
        "\n",
        "    return results, metrics_dict, full_train_info, full_test_info"
      ]
    },
    {
      "cell_type": "code",
      "execution_count": null,
      "metadata": {
        "id": "gZi_6MkqtNbb"
      },
      "outputs": [],
      "source": [
        "!pip install -q torchinfo optuna"
      ]
    },
    {
      "cell_type": "markdown",
      "metadata": {
        "id": "-pczrFmFpJIm"
      },
      "source": [
        "# IMPORTS"
      ]
    },
    {
      "cell_type": "code",
      "execution_count": null,
      "metadata": {
        "id": "gwigNReCZqOJ"
      },
      "outputs": [],
      "source": [
        "import os\n",
        "import io\n",
        "import random\n",
        "import requests\n",
        "import h5py\n",
        "import numpy as np\n",
        "import pandas as pd\n",
        "import seaborn as sns\n",
        "import matplotlib.pyplot as plt\n",
        "from glob import glob\n",
        "from PIL import Image\n",
        "from tqdm.auto import tqdm\n",
        "\n",
        "import torch\n",
        "from torch import nn\n",
        "from torch.utils.data import DataLoader, Dataset, random_split\n",
        "import torchvision\n",
        "from torchvision import transforms\n",
        "from torchinfo import summary\n",
        "\n",
        "from sklearn.model_selection import (\n",
        "    train_test_split, GroupKFold, cross_val_score\n",
        ")\n",
        "from sklearn.utils.class_weight import compute_class_weight\n",
        "from sklearn.metrics import accuracy_score\n",
        "from sklearn.preprocessing import (\n",
        "    StandardScaler, MinMaxScaler, OneHotEncoder,OrdinalEncoder\n",
        ")\n",
        "from sklearn.impute import SimpleImputer\n",
        "from sklearn.compose import ColumnTransformer\n",
        "from sklearn.pipeline import Pipeline\n",
        "from sklearn.decomposition import PCA\n",
        "from sklearn.tree import DecisionTreeClassifier\n",
        "from sklearn.ensemble import RandomForestClassifier\n",
        "from sklearn.linear_model import LogisticRegression\n",
        "from sklearn.svm import SVC\n",
        "from sklearn.neighbors import KNeighborsClassifier\n",
        "from sklearn.compose import make_column_selector as selector\n",
        "\n",
        "from imblearn.over_sampling import SMOTE\n",
        "from sklearn.metrics import precision_recall_fscore_support, roc_auc_score, confusion_matrix\n",
        "import kagglehub\n",
        "from google.colab import files\n",
        "import optuna\n",
        "from sklearn.metrics import confusion_matrix\n",
        "from lightgbm import LGBMClassifier"
      ]
    },
    {
      "cell_type": "code",
      "execution_count": null,
      "metadata": {
        "id": "dk0trHm1nNMW"
      },
      "outputs": [],
      "source": [
        "import os\n",
        "os.environ[\"CUDA_LAUNCH_BLOCKING\"] = \"1\""
      ]
    },
    {
      "cell_type": "code",
      "execution_count": null,
      "metadata": {
        "id": "EZ-5Eh4dJ-te"
      },
      "outputs": [],
      "source": [
        "# !git clone https://github.com/mrdbourke/pytorch-deep-learning\n",
        "# !mv pytorch-deep-learning/going_modular .\n",
        "# !rm -rf pytorch-deep-learning"
      ]
    },
    {
      "cell_type": "code",
      "execution_count": null,
      "metadata": {
        "colab": {
          "base_uri": "https://localhost:8080/",
          "height": 35
        },
        "id": "NCGNiQZZBBwe",
        "outputId": "91990bf0-0433-4494-d191-1b9e42be6331"
      },
      "outputs": [
        {
          "data": {
            "application/vnd.google.colaboratory.intrinsic+json": {
              "type": "string"
            },
            "text/plain": [
              "'cuda'"
            ]
          },
          "execution_count": 67,
          "metadata": {},
          "output_type": "execute_result"
        }
      ],
      "source": [
        "device=\"cuda\" if torch.cuda.is_available() else \"cpu\"\n",
        "device"
      ]
    },
    {
      "cell_type": "code",
      "execution_count": null,
      "metadata": {
        "colab": {
          "base_uri": "https://localhost:8080/",
          "height": 321
        },
        "id": "IIqjpgTYeie0",
        "outputId": "920029cd-d18f-4e73-c5c0-c182a089d650"
      },
      "outputs": [
        {
          "data": {
            "text/html": [
              "\n",
              "     <input type=\"file\" id=\"files-ccbf976d-b6e0-4ac9-ad8a-d33bf955b3d6\" name=\"files[]\" multiple disabled\n",
              "        style=\"border:none\" />\n",
              "     <output id=\"result-ccbf976d-b6e0-4ac9-ad8a-d33bf955b3d6\">\n",
              "      Upload widget is only available when the cell has been executed in the\n",
              "      current browser session. Please rerun this cell to enable.\n",
              "      </output>\n",
              "      <script>// Copyright 2017 Google LLC\n",
              "//\n",
              "// Licensed under the Apache License, Version 2.0 (the \"License\");\n",
              "// you may not use this file except in compliance with the License.\n",
              "// You may obtain a copy of the License at\n",
              "//\n",
              "//      http://www.apache.org/licenses/LICENSE-2.0\n",
              "//\n",
              "// Unless required by applicable law or agreed to in writing, software\n",
              "// distributed under the License is distributed on an \"AS IS\" BASIS,\n",
              "// WITHOUT WARRANTIES OR CONDITIONS OF ANY KIND, either express or implied.\n",
              "// See the License for the specific language governing permissions and\n",
              "// limitations under the License.\n",
              "\n",
              "/**\n",
              " * @fileoverview Helpers for google.colab Python module.\n",
              " */\n",
              "(function(scope) {\n",
              "function span(text, styleAttributes = {}) {\n",
              "  const element = document.createElement('span');\n",
              "  element.textContent = text;\n",
              "  for (const key of Object.keys(styleAttributes)) {\n",
              "    element.style[key] = styleAttributes[key];\n",
              "  }\n",
              "  return element;\n",
              "}\n",
              "\n",
              "// Max number of bytes which will be uploaded at a time.\n",
              "const MAX_PAYLOAD_SIZE = 100 * 1024;\n",
              "\n",
              "function _uploadFiles(inputId, outputId) {\n",
              "  const steps = uploadFilesStep(inputId, outputId);\n",
              "  const outputElement = document.getElementById(outputId);\n",
              "  // Cache steps on the outputElement to make it available for the next call\n",
              "  // to uploadFilesContinue from Python.\n",
              "  outputElement.steps = steps;\n",
              "\n",
              "  return _uploadFilesContinue(outputId);\n",
              "}\n",
              "\n",
              "// This is roughly an async generator (not supported in the browser yet),\n",
              "// where there are multiple asynchronous steps and the Python side is going\n",
              "// to poll for completion of each step.\n",
              "// This uses a Promise to block the python side on completion of each step,\n",
              "// then passes the result of the previous step as the input to the next step.\n",
              "function _uploadFilesContinue(outputId) {\n",
              "  const outputElement = document.getElementById(outputId);\n",
              "  const steps = outputElement.steps;\n",
              "\n",
              "  const next = steps.next(outputElement.lastPromiseValue);\n",
              "  return Promise.resolve(next.value.promise).then((value) => {\n",
              "    // Cache the last promise value to make it available to the next\n",
              "    // step of the generator.\n",
              "    outputElement.lastPromiseValue = value;\n",
              "    return next.value.response;\n",
              "  });\n",
              "}\n",
              "\n",
              "/**\n",
              " * Generator function which is called between each async step of the upload\n",
              " * process.\n",
              " * @param {string} inputId Element ID of the input file picker element.\n",
              " * @param {string} outputId Element ID of the output display.\n",
              " * @return {!Iterable<!Object>} Iterable of next steps.\n",
              " */\n",
              "function* uploadFilesStep(inputId, outputId) {\n",
              "  const inputElement = document.getElementById(inputId);\n",
              "  inputElement.disabled = false;\n",
              "\n",
              "  const outputElement = document.getElementById(outputId);\n",
              "  outputElement.innerHTML = '';\n",
              "\n",
              "  const pickedPromise = new Promise((resolve) => {\n",
              "    inputElement.addEventListener('change', (e) => {\n",
              "      resolve(e.target.files);\n",
              "    });\n",
              "  });\n",
              "\n",
              "  const cancel = document.createElement('button');\n",
              "  inputElement.parentElement.appendChild(cancel);\n",
              "  cancel.textContent = 'Cancel upload';\n",
              "  const cancelPromise = new Promise((resolve) => {\n",
              "    cancel.onclick = () => {\n",
              "      resolve(null);\n",
              "    };\n",
              "  });\n",
              "\n",
              "  // Wait for the user to pick the files.\n",
              "  const files = yield {\n",
              "    promise: Promise.race([pickedPromise, cancelPromise]),\n",
              "    response: {\n",
              "      action: 'starting',\n",
              "    }\n",
              "  };\n",
              "\n",
              "  cancel.remove();\n",
              "\n",
              "  // Disable the input element since further picks are not allowed.\n",
              "  inputElement.disabled = true;\n",
              "\n",
              "  if (!files) {\n",
              "    return {\n",
              "      response: {\n",
              "        action: 'complete',\n",
              "      }\n",
              "    };\n",
              "  }\n",
              "\n",
              "  for (const file of files) {\n",
              "    const li = document.createElement('li');\n",
              "    li.append(span(file.name, {fontWeight: 'bold'}));\n",
              "    li.append(span(\n",
              "        `(${file.type || 'n/a'}) - ${file.size} bytes, ` +\n",
              "        `last modified: ${\n",
              "            file.lastModifiedDate ? file.lastModifiedDate.toLocaleDateString() :\n",
              "                                    'n/a'} - `));\n",
              "    const percent = span('0% done');\n",
              "    li.appendChild(percent);\n",
              "\n",
              "    outputElement.appendChild(li);\n",
              "\n",
              "    const fileDataPromise = new Promise((resolve) => {\n",
              "      const reader = new FileReader();\n",
              "      reader.onload = (e) => {\n",
              "        resolve(e.target.result);\n",
              "      };\n",
              "      reader.readAsArrayBuffer(file);\n",
              "    });\n",
              "    // Wait for the data to be ready.\n",
              "    let fileData = yield {\n",
              "      promise: fileDataPromise,\n",
              "      response: {\n",
              "        action: 'continue',\n",
              "      }\n",
              "    };\n",
              "\n",
              "    // Use a chunked sending to avoid message size limits. See b/62115660.\n",
              "    let position = 0;\n",
              "    do {\n",
              "      const length = Math.min(fileData.byteLength - position, MAX_PAYLOAD_SIZE);\n",
              "      const chunk = new Uint8Array(fileData, position, length);\n",
              "      position += length;\n",
              "\n",
              "      const base64 = btoa(String.fromCharCode.apply(null, chunk));\n",
              "      yield {\n",
              "        response: {\n",
              "          action: 'append',\n",
              "          file: file.name,\n",
              "          data: base64,\n",
              "        },\n",
              "      };\n",
              "\n",
              "      let percentDone = fileData.byteLength === 0 ?\n",
              "          100 :\n",
              "          Math.round((position / fileData.byteLength) * 100);\n",
              "      percent.textContent = `${percentDone}% done`;\n",
              "\n",
              "    } while (position < fileData.byteLength);\n",
              "  }\n",
              "\n",
              "  // All done.\n",
              "  yield {\n",
              "    response: {\n",
              "      action: 'complete',\n",
              "    }\n",
              "  };\n",
              "}\n",
              "\n",
              "scope.google = scope.google || {};\n",
              "scope.google.colab = scope.google.colab || {};\n",
              "scope.google.colab._files = {\n",
              "  _uploadFiles,\n",
              "  _uploadFilesContinue,\n",
              "};\n",
              "})(self);\n",
              "</script> "
            ],
            "text/plain": [
              "<IPython.core.display.HTML object>"
            ]
          },
          "metadata": {},
          "output_type": "display_data"
        },
        {
          "ename": "KeyboardInterrupt",
          "evalue": "",
          "output_type": "error",
          "traceback": [
            "\u001b[0;31m---------------------------------------------------------------------------\u001b[0m",
            "\u001b[0;31mKeyboardInterrupt\u001b[0m                         Traceback (most recent call last)",
            "\u001b[0;32m/tmp/ipython-input-68-4221232239.py\u001b[0m in \u001b[0;36m<cell line: 0>\u001b[0;34m()\u001b[0m\n\u001b[0;32m----> 1\u001b[0;31m \u001b[0mfiles\u001b[0m\u001b[0;34m.\u001b[0m\u001b[0mupload\u001b[0m\u001b[0;34m(\u001b[0m\u001b[0;34m)\u001b[0m\u001b[0;34m\u001b[0m\u001b[0;34m\u001b[0m\u001b[0m\n\u001b[0m",
            "\u001b[0;32m/usr/local/lib/python3.11/dist-packages/google/colab/files.py\u001b[0m in \u001b[0;36mupload\u001b[0;34m(target_dir)\u001b[0m\n\u001b[1;32m     70\u001b[0m   \"\"\"\n\u001b[1;32m     71\u001b[0m \u001b[0;34m\u001b[0m\u001b[0m\n\u001b[0;32m---> 72\u001b[0;31m   \u001b[0muploaded_files\u001b[0m \u001b[0;34m=\u001b[0m \u001b[0m_upload_files\u001b[0m\u001b[0;34m(\u001b[0m\u001b[0mmultiple\u001b[0m\u001b[0;34m=\u001b[0m\u001b[0;32mTrue\u001b[0m\u001b[0;34m)\u001b[0m\u001b[0;34m\u001b[0m\u001b[0;34m\u001b[0m\u001b[0m\n\u001b[0m\u001b[1;32m     73\u001b[0m   \u001b[0;31m# Mapping from original filename to filename as saved locally.\u001b[0m\u001b[0;34m\u001b[0m\u001b[0;34m\u001b[0m\u001b[0m\n\u001b[1;32m     74\u001b[0m   \u001b[0mlocal_filenames\u001b[0m \u001b[0;34m=\u001b[0m \u001b[0mdict\u001b[0m\u001b[0;34m(\u001b[0m\u001b[0;34m)\u001b[0m\u001b[0;34m\u001b[0m\u001b[0;34m\u001b[0m\u001b[0m\n",
            "\u001b[0;32m/usr/local/lib/python3.11/dist-packages/google/colab/files.py\u001b[0m in \u001b[0;36m_upload_files\u001b[0;34m(multiple)\u001b[0m\n\u001b[1;32m    162\u001b[0m \u001b[0;34m\u001b[0m\u001b[0m\n\u001b[1;32m    163\u001b[0m   \u001b[0;31m# First result is always an indication that the file picker has completed.\u001b[0m\u001b[0;34m\u001b[0m\u001b[0;34m\u001b[0m\u001b[0m\n\u001b[0;32m--> 164\u001b[0;31m   result = _output.eval_js(\n\u001b[0m\u001b[1;32m    165\u001b[0m       'google.colab._files._uploadFiles(\"{input_id}\", \"{output_id}\")'.format(\n\u001b[1;32m    166\u001b[0m           \u001b[0minput_id\u001b[0m\u001b[0;34m=\u001b[0m\u001b[0minput_id\u001b[0m\u001b[0;34m,\u001b[0m \u001b[0moutput_id\u001b[0m\u001b[0;34m=\u001b[0m\u001b[0moutput_id\u001b[0m\u001b[0;34m\u001b[0m\u001b[0;34m\u001b[0m\u001b[0m\n",
            "\u001b[0;32m/usr/local/lib/python3.11/dist-packages/google/colab/output/_js.py\u001b[0m in \u001b[0;36meval_js\u001b[0;34m(script, ignore_result, timeout_sec)\u001b[0m\n\u001b[1;32m     38\u001b[0m   \u001b[0;32mif\u001b[0m \u001b[0mignore_result\u001b[0m\u001b[0;34m:\u001b[0m\u001b[0;34m\u001b[0m\u001b[0;34m\u001b[0m\u001b[0m\n\u001b[1;32m     39\u001b[0m     \u001b[0;32mreturn\u001b[0m\u001b[0;34m\u001b[0m\u001b[0;34m\u001b[0m\u001b[0m\n\u001b[0;32m---> 40\u001b[0;31m   \u001b[0;32mreturn\u001b[0m \u001b[0m_message\u001b[0m\u001b[0;34m.\u001b[0m\u001b[0mread_reply_from_input\u001b[0m\u001b[0;34m(\u001b[0m\u001b[0mrequest_id\u001b[0m\u001b[0;34m,\u001b[0m \u001b[0mtimeout_sec\u001b[0m\u001b[0;34m)\u001b[0m\u001b[0;34m\u001b[0m\u001b[0;34m\u001b[0m\u001b[0m\n\u001b[0m\u001b[1;32m     41\u001b[0m \u001b[0;34m\u001b[0m\u001b[0m\n\u001b[1;32m     42\u001b[0m \u001b[0;34m\u001b[0m\u001b[0m\n",
            "\u001b[0;32m/usr/local/lib/python3.11/dist-packages/google/colab/_message.py\u001b[0m in \u001b[0;36mread_reply_from_input\u001b[0;34m(message_id, timeout_sec)\u001b[0m\n\u001b[1;32m     94\u001b[0m     \u001b[0mreply\u001b[0m \u001b[0;34m=\u001b[0m \u001b[0m_read_next_input_message\u001b[0m\u001b[0;34m(\u001b[0m\u001b[0;34m)\u001b[0m\u001b[0;34m\u001b[0m\u001b[0;34m\u001b[0m\u001b[0m\n\u001b[1;32m     95\u001b[0m     \u001b[0;32mif\u001b[0m \u001b[0mreply\u001b[0m \u001b[0;34m==\u001b[0m \u001b[0m_NOT_READY\u001b[0m \u001b[0;32mor\u001b[0m \u001b[0;32mnot\u001b[0m \u001b[0misinstance\u001b[0m\u001b[0;34m(\u001b[0m\u001b[0mreply\u001b[0m\u001b[0;34m,\u001b[0m \u001b[0mdict\u001b[0m\u001b[0;34m)\u001b[0m\u001b[0;34m:\u001b[0m\u001b[0;34m\u001b[0m\u001b[0;34m\u001b[0m\u001b[0m\n\u001b[0;32m---> 96\u001b[0;31m       \u001b[0mtime\u001b[0m\u001b[0;34m.\u001b[0m\u001b[0msleep\u001b[0m\u001b[0;34m(\u001b[0m\u001b[0;36m0.025\u001b[0m\u001b[0;34m)\u001b[0m\u001b[0;34m\u001b[0m\u001b[0;34m\u001b[0m\u001b[0m\n\u001b[0m\u001b[1;32m     97\u001b[0m       \u001b[0;32mcontinue\u001b[0m\u001b[0;34m\u001b[0m\u001b[0;34m\u001b[0m\u001b[0m\n\u001b[1;32m     98\u001b[0m     if (\n",
            "\u001b[0;31mKeyboardInterrupt\u001b[0m: "
          ]
        }
      ],
      "source": [
        "files.upload()"
      ]
    },
    {
      "cell_type": "code",
      "execution_count": null,
      "metadata": {
        "id": "3PgdGr3UeshR"
      },
      "outputs": [],
      "source": [
        "!mkdir -p ~/.kaggle\n",
        "!cp kaggle.json ~/.kaggle/\n",
        "!chmod 600 ~/.kaggle/kaggle.json"
      ]
    },
    {
      "cell_type": "code",
      "execution_count": null,
      "metadata": {
        "id": "U3ApJQaKf0Io"
      },
      "outputs": [],
      "source": [
        "!kaggle competitions download -c isic-2024-challenge"
      ]
    },
    {
      "cell_type": "code",
      "execution_count": null,
      "metadata": {
        "id": "w8Zc-chVf0Cn"
      },
      "outputs": [],
      "source": [
        "!unzip -q isic-2024-challenge.zip -d isic-data"
      ]
    },
    {
      "cell_type": "markdown",
      "metadata": {
        "id": "v1oDU8kjkR-3"
      },
      "source": [
        "# metadata"
      ]
    },
    {
      "cell_type": "code",
      "execution_count": null,
      "metadata": {
        "colab": {
          "base_uri": "https://localhost:8080/"
        },
        "id": "8RHw7s8oqUi7",
        "outputId": "763fc850-5219-4074-ad26-5e2612b26a96"
      },
      "outputs": [
        {
          "name": "stderr",
          "output_type": "stream",
          "text": [
            "/tmp/ipython-input-326-3357258532.py:1: DtypeWarning: Columns (51,52) have mixed types. Specify dtype option on import or set low_memory=False.\n",
            "  train_df=pd.read_csv(\"isic-data/train-metadata.csv\")\n"
          ]
        }
      ],
      "source": [
        "train_df=pd.read_csv(\"isic-data/train-metadata.csv\")"
      ]
    },
    {
      "cell_type": "markdown",
      "metadata": {
        "id": "5shANCrJpMYf"
      },
      "source": [
        "#UNDERSAMPLING AND OVERSAMPLING"
      ]
    },
    {
      "cell_type": "code",
      "execution_count": null,
      "metadata": {
        "colab": {
          "base_uri": "https://localhost:8080/"
        },
        "id": "mYO-zpZ2PYq0",
        "outputId": "6390e56e-418d-45d7-a34a-a2f8e78ac2bf"
      },
      "outputs": [
        {
          "data": {
            "text/plain": [
              "1202"
            ]
          },
          "execution_count": 329,
          "metadata": {},
          "output_type": "execute_result"
        }
      ],
      "source": [
        "len(train_df[train_df['target']==0].sample(frac=0.003,random_state=42))"
      ]
    },
    {
      "cell_type": "code",
      "execution_count": null,
      "metadata": {
        "colab": {
          "base_uri": "https://localhost:8080/"
        },
        "id": "rpm6t8n8SOHl",
        "outputId": "492a0928-f408-4171-ccbf-5d27a58e32a9"
      },
      "outputs": [
        {
          "name": "stdout",
          "output_type": "stream",
          "text": [
            "Distribution before sampling\n"
          ]
        },
        {
          "data": {
            "text/plain": [
              "(target\n",
              " 0    99.902009\n",
              " 1     0.097991\n",
              " Name: count, dtype: float64,\n",
              " target\n",
              " 0    400666\n",
              " 1       393\n",
              " Name: count, dtype: int64)"
            ]
          },
          "execution_count": 330,
          "metadata": {},
          "output_type": "execute_result"
        }
      ],
      "source": [
        "print(\"Distribution before sampling\")\n",
        "(train_df['target'].value_counts()/len(train_df))*100,train_df['target'].value_counts()"
      ]
    },
    {
      "cell_type": "code",
      "execution_count": null,
      "metadata": {
        "id": "B5ITO2_HK3pC"
      },
      "outputs": [],
      "source": [
        "train_df=train_df.drop(['iddx_1','iddx_full','image_type'],axis=1)"
      ]
    },
    {
      "cell_type": "code",
      "execution_count": null,
      "metadata": {
        "id": "slJhhp6WTtIa"
      },
      "outputs": [],
      "source": [
        "benign=train_df[train_df['target']==0].sample(frac=0.0045,random_state=42)\n",
        "malignant=train_df[train_df['target']==1].sample(frac=1.0,random_state=42)"
      ]
    },
    {
      "cell_type": "code",
      "execution_count": null,
      "metadata": {
        "id": "GLbaPrfPUo_j"
      },
      "outputs": [],
      "source": [
        "train_df=pd.concat([benign,malignant])"
      ]
    },
    {
      "cell_type": "code",
      "execution_count": null,
      "metadata": {
        "colab": {
          "base_uri": "https://localhost:8080/"
        },
        "id": "1Y70AnOaVf7Q",
        "outputId": "019966bc-33c5-4202-d8f0-45167cca4e4e"
      },
      "outputs": [
        {
          "name": "stdout",
          "output_type": "stream",
          "text": [
            "Distribution after sampling\n"
          ]
        },
        {
          "data": {
            "text/plain": [
              "(target\n",
              " 0    82.103825\n",
              " 1    17.896175\n",
              " Name: count, dtype: float64,\n",
              " target\n",
              " 0    1803\n",
              " 1     393\n",
              " Name: count, dtype: int64)"
            ]
          },
          "execution_count": 271,
          "metadata": {},
          "output_type": "execute_result"
        }
      ],
      "source": [
        "print(\"Distribution after sampling\")\n",
        "(train_df['target'].value_counts()/len(train_df))*100,train_df['target'].value_counts()"
      ]
    },
    {
      "cell_type": "code",
      "execution_count": null,
      "metadata": {
        "id": "3XmcUNC7kUvn"
      },
      "outputs": [],
      "source": [
        "null_percentage_series=(train_df.isnull().sum()/len(train_df))*100\n",
        "\n",
        "cols_to_keep=null_percentage_series[~(null_percentage_series>60)].index\n",
        "train_df=train_df[cols_to_keep]\n",
        "\n",
        "numeric_cols=list(train_df.drop(\"target\",axis=1).select_dtypes(exclude=\"object\").columns)\n",
        "object_cols=list(train_df.select_dtypes(include=\"object\").columns)"
      ]
    },
    {
      "cell_type": "code",
      "execution_count": null,
      "metadata": {
        "id": "802IV_wKmp0e"
      },
      "outputs": [],
      "source": [
        "#fill nulls and preprocessing\n",
        "numeric_pipeline = Pipeline(steps=[\n",
        "    ('imputer', SimpleImputer(strategy='mean')),\n",
        "    ('scaler', StandardScaler())\n",
        "])\n",
        "\n",
        "categorical_pipeline = Pipeline(steps=[\n",
        "    ('imputer', SimpleImputer(strategy='most_frequent')),\n",
        "    ('encoder', OrdinalEncoder(handle_unknown='use_encoded_value',unknown_value=-1))\n",
        "])\n",
        "\n",
        "preprocessor = ColumnTransformer(transformers=[\n",
        "    ('num', numeric_pipeline, numeric_cols),\n",
        "    ('cat', categorical_pipeline, object_cols)\n",
        "])"
      ]
    },
    {
      "cell_type": "code",
      "execution_count": null,
      "metadata": {
        "id": "XnAcd_RLnO0r"
      },
      "outputs": [],
      "source": [
        "X=train_df.drop(\"target\",axis=1)\n",
        "y=train_df['target']"
      ]
    },
    {
      "cell_type": "code",
      "execution_count": null,
      "metadata": {
        "colab": {
          "base_uri": "https://localhost:8080/"
        },
        "id": "PC6TPLb0VJJC",
        "outputId": "8422fbd2-ca49-4ecb-8a3c-9611215c03d0"
      },
      "outputs": [
        {
          "data": {
            "text/plain": [
              "({0: np.float64(0.6089850249584027), 1: np.float64(2.7938931297709924)},\n",
              " array([0.60898502, 2.79389313]))"
            ]
          },
          "execution_count": 275,
          "metadata": {},
          "output_type": "execute_result"
        }
      ],
      "source": [
        "weight_per_class=compute_class_weight(class_weight=\"balanced\",classes=np.unique(y),y=y)\n",
        "weights_to_idx={v:k for v,k in enumerate(weight_per_class)}\n",
        "weights_to_idx,weight_per_class"
      ]
    },
    {
      "cell_type": "code",
      "execution_count": null,
      "metadata": {
        "id": "6fxRchkAJqOi"
      },
      "outputs": [],
      "source": [
        "from sklearn.model_selection import StratifiedGroupKFold\n",
        "\n",
        "sgkf = StratifiedGroupKFold(n_splits=2, shuffle=True, random_state=42)\n",
        "\n",
        "X = train_df[X.columns]\n",
        "y = train_df['target']\n",
        "groups = train_df['patient_id']\n",
        "\n",
        "for train_idx, val_idx in sgkf.split(X, y, groups):\n",
        "    train_df_split = train_df.iloc[train_idx].reset_index(drop=True)\n",
        "    val_df_split = train_df.iloc[val_idx].reset_index(drop=True)\n",
        "    break\n",
        "\n",
        "X_train_table = train_df_split[X.columns]\n",
        "X_valid_table = val_df_split[X.columns]\n",
        "y_train_table = train_df_split['target']\n",
        "y_valid_table = val_df_split['target']\n",
        "\n",
        "X_train_table_preprocessed=preprocessor.fit_transform(X_train_table)\n",
        "X_valid_table_preprocessed=preprocessor.transform(X_valid_table)"
      ]
    },
    {
      "cell_type": "code",
      "execution_count": null,
      "metadata": {
        "id": "gkgk8CMm7EgL"
      },
      "outputs": [],
      "source": [
        "preprocessor_feature_names = preprocessor.get_feature_names_out()"
      ]
    },
    {
      "cell_type": "code",
      "execution_count": null,
      "metadata": {
        "id": "tsICQjAC7E9i"
      },
      "outputs": [],
      "source": [
        "sample_df=pd.DataFrame(X_train_table_preprocessed, columns=preprocessor_feature_names)\n",
        "sample_df['target']=y_train_table.values\n",
        "metadata_corr=sample_df.corr()['target'].sort_values(ascending=False)"
      ]
    },
    {
      "cell_type": "code",
      "execution_count": null,
      "metadata": {
        "id": "v36TS_okQTnU"
      },
      "outputs": [],
      "source": [
        "train_ids=train_df.iloc[train_idx]['isic_id'].values\n",
        "val_ids=train_df.iloc[val_idx]['isic_id'].values"
      ]
    },
    {
      "cell_type": "code",
      "execution_count": null,
      "metadata": {
        "id": "OgF3QDSSQj4T"
      },
      "outputs": [],
      "source": [
        "preprocessed_train_data=[]\n",
        "preprocessed_valid_data=[]\n",
        "for id,data in zip(train_ids,X_train_table_preprocessed):\n",
        "  preprocessed_train_data.append((data,id))\n",
        "for id,data in zip(val_ids,X_valid_table_preprocessed):\n",
        "  preprocessed_valid_data.append((data,id))"
      ]
    },
    {
      "cell_type": "code",
      "execution_count": null,
      "metadata": {
        "id": "_6iv95d7SVo9"
      },
      "outputs": [],
      "source": [
        "preprocessed_data=preprocessed_train_data+preprocessed_valid_data"
      ]
    },
    {
      "cell_type": "code",
      "execution_count": null,
      "metadata": {
        "id": "6pu9qsu-rP7D"
      },
      "outputs": [],
      "source": [
        "label_dict={0: 'benign', 1: 'malignant'}"
      ]
    },
    {
      "cell_type": "code",
      "execution_count": null,
      "metadata": {
        "id": "y5FLvWabkIf7"
      },
      "outputs": [],
      "source": [
        "# with h5py.File(\"isic-data/train-image.hdf5\",\"r\") as f:\n",
        "#   train_isic_ids=list(f.keys())\n",
        "with h5py.File(\"isic-data/test-image.hdf5\",\"r\") as f:\n",
        "  test_isic_ids=list(f.keys())"
      ]
    },
    {
      "cell_type": "code",
      "execution_count": null,
      "metadata": {
        "id": "Jw8Eee0WYGl4"
      },
      "outputs": [],
      "source": [
        "train_isic_ids=np.array(train_df.reset_index()['isic_id'].unique())"
      ]
    },
    {
      "cell_type": "markdown",
      "metadata": {
        "id": "8_2lVSfhSHvd"
      },
      "source": [
        "# Train Images"
      ]
    },
    {
      "cell_type": "code",
      "execution_count": null,
      "metadata": {
        "id": "L_jEjPpyRZk6"
      },
      "outputs": [],
      "source": [
        "train_df=train_df.set_index(\"isic_id\")"
      ]
    },
    {
      "cell_type": "code",
      "execution_count": null,
      "metadata": {
        "id": "5BArqFxgiB-l"
      },
      "outputs": [],
      "source": [
        "# fig,ax=plt.subplots(1,3,figsize=(12,6))\n",
        "# ax=ax.flatten()\n",
        "# for i in range(3):\n",
        "#   id=np.random.choice(train_isic_ids)\n",
        "#   label=train_df.loc[id]['target']\n",
        "#   with h5py.File(\"isic-data/train-image.hdf5\",'r') as f:\n",
        "#     byte=f[id][()]\n",
        "#   stream=io.BytesIO(byte)\n",
        "#   img=Image.open(stream)\n",
        "#   ax[i].imshow(img)\n",
        "#   ax[i].set_title(f\"{id}|{img.size} \\n label:{label_dict[label]}\",fontsize=8)\n",
        "#   ax[i].axis(False)\n",
        "# plt.subplots_adjust(wspace=0.5)\n",
        "# plt.show()"
      ]
    },
    {
      "cell_type": "markdown",
      "metadata": {
        "id": "TuTBGAUZSF_0"
      },
      "source": [
        "# Test Images"
      ]
    },
    {
      "cell_type": "code",
      "execution_count": null,
      "metadata": {
        "id": "aC8slIOKRk_0"
      },
      "outputs": [],
      "source": [
        "# fig,ax=plt.subplots(1,3,figsize=(12,6))\n",
        "# ax=ax.flatten()\n",
        "# for i in range(3):\n",
        "#   id=np.random.choice(test_isic_ids)\n",
        "#   with h5py.File(\"isic-data/test-image.hdf5\",'r') as f:\n",
        "#     byte=f[id][()]\n",
        "#   stream=io.BytesIO(byte)\n",
        "#   img=Image.open(stream)\n",
        "#   ax[i].imshow(img)\n",
        "#   ax[i].set_title(f\"{id}|{img.size}\",fontsize=8)\n",
        "#   ax[i].axis(False)\n",
        "# plt.subplots_adjust(wspace=0.5)\n",
        "# # plt.suptitle(\"Test Image\")\n",
        "# plt.show()"
      ]
    },
    {
      "cell_type": "code",
      "execution_count": null,
      "metadata": {
        "id": "s75vE0ZSXmPp"
      },
      "outputs": [],
      "source": [
        "# custom_transform=transforms.Compose([\n",
        "#     transforms.Resize(size=(128,128)),\n",
        "#     transforms.TrivialAugmentWide(num_magnitude_bins=31)\n",
        "# ])"
      ]
    },
    {
      "cell_type": "code",
      "execution_count": null,
      "metadata": {
        "id": "fmygnvIrms29"
      },
      "outputs": [],
      "source": [
        "# id=np.random.choice(train_isic_ids)\n",
        "# with h5py.File(\"isic-data/train-image.hdf5\",'r') as f:\n",
        "#   byte=f[id][()]\n",
        "# streamer=io.BytesIO(byte)\n",
        "# plt.subplot(1,2,1)\n",
        "# img=Image.open(streamer)\n",
        "# plt.imshow(img)\n",
        "# plt.title(f\"original image | {img.size}\",fontsize=8)\n",
        "# plt.axis(False)\n",
        "# plt.subplot(1,2,2)\n",
        "# ti=custom_transform(img)\n",
        "# # print(ti.shape)\n",
        "# # plt.title(\"transformed image\")\n",
        "# plt.title(f\"transformed image | {ti.size}\",fontsize=8)\n",
        "# plt.imshow(ti)\n",
        "# plt.axis(False)\n",
        "# plt.show()"
      ]
    },
    {
      "cell_type": "code",
      "execution_count": null,
      "metadata": {
        "id": "pSo1q8_woT8j"
      },
      "outputs": [],
      "source": [
        "benign_isic_ids=np.array(train_df[train_df['target']==0].index)\n",
        "malignant_isic_ids=np.array(train_df[train_df['target']==1].index)"
      ]
    },
    {
      "cell_type": "markdown",
      "metadata": {
        "id": "O0wj7bBOif64"
      },
      "source": [
        "# Loading weights for pretrained model"
      ]
    },
    {
      "cell_type": "code",
      "execution_count": null,
      "metadata": {
        "id": "LaHAqyzQ-ffO"
      },
      "outputs": [],
      "source": [
        "weights=torchvision.models.EfficientNet_B0_Weights.DEFAULT\n",
        "preprocess = weights.transforms()"
      ]
    },
    {
      "cell_type": "code",
      "execution_count": null,
      "metadata": {
        "id": "BkGQN5_j4vQk"
      },
      "outputs": [],
      "source": [
        "torch.manual_seed(42)\n",
        "torch.cuda.manual_seed(42)\n",
        "augmented_transform = transforms.Compose([\n",
        "    transforms.Resize(256),\n",
        "    transforms.RandomHorizontalFlip(p=0.5),  # Light, safe spatial augmentation\n",
        "    # transforms.TrivialAugmentWide(31),\n",
        "    transforms.CenterCrop(224),\n",
        "    transforms.ColorJitter(brightness=0.1, contrast=0.1),  # Mild color variation\n",
        "    transforms.ToTensor(),\n",
        "    transforms.Normalize(mean=[0.485, 0.456, 0.406],\n",
        "                         std=[0.229, 0.224, 0.225])\n",
        "])"
      ]
    },
    {
      "cell_type": "markdown",
      "metadata": {
        "id": "8MxQHo7EidFI"
      },
      "source": [
        "# Custom Dataset Class"
      ]
    },
    {
      "cell_type": "code",
      "execution_count": null,
      "metadata": {
        "id": "Sp9Ht3QUoyhJ"
      },
      "outputs": [],
      "source": [
        "# class CustomIsicImageDataset(Dataset):\n",
        "#     def __init__(self, dir_path, metadata_df, augmented_transform=None, transform=None):\n",
        "#         self.dir_path = dir_path\n",
        "#         self.metadata_df = metadata_df\n",
        "#         self.transform = transform\n",
        "#         self.augmented_transform = augmented_transform\n",
        "#         self.id_list = sorted(metadata_df['isic_id'].astype(str).unique().tolist())\n",
        "#         self.hdf5_file = h5py.File(self.dir_path, 'r')\n",
        "#         self._cached_data = []\n",
        "\n",
        "#         for id in self.id_list:\n",
        "#             byte = self.hdf5_file[id][()]\n",
        "#             stream = io.BytesIO(byte)\n",
        "#             img = Image.open(stream).convert(\"RGB\")\n",
        "#             label = torch.tensor(\n",
        "#                 self.metadata_df[self.metadata_df['isic_id'] == id]['target'].values[0]\n",
        "#             ).long()\n",
        "\n",
        "#             if label == 1:\n",
        "#                 if self.augmented_transform:\n",
        "#                     img_tensor = self.augmented_transform(img)\n",
        "#                 else:\n",
        "#                     img_tensor = self.transform(img) if self.transform else torchvision.transforms.ToTensor()(img)\n",
        "#             else:\n",
        "#                 img_tensor = self.transform(img) if self.transform else torchvision.transforms.ToTensor()(img)\n",
        "\n",
        "#             self._cached_data.append((img_tensor, label))\n",
        "\n",
        "#     def __len__(self):\n",
        "#         return len(self._cached_data)\n",
        "\n",
        "#     def __getitem__(self, index):\n",
        "#         return self._cached_data[index]"
      ]
    },
    {
      "cell_type": "code",
      "execution_count": null,
      "metadata": {
        "id": "1fqSzkzrCRRs"
      },
      "outputs": [],
      "source": [
        "class CustomIsicDataset(Dataset):\n",
        "    def __init__(self, dir_path, metadata_df,preprocessed_data,transform=None):\n",
        "        self.dir_path = dir_path\n",
        "        self.metadata_df = metadata_df\n",
        "        self.transform = transform\n",
        "        self.id_list =  sorted(metadata_df['isic_id'].astype(str).unique().tolist())\n",
        "        self.hdf5_file = h5py.File(self.dir_path, 'r')\n",
        "        self._cached_data = []\n",
        "        self.preprocessed_data=preprocessed_data\n",
        "        self.preprocessed_dict={id:data for (data,id) in self.preprocessed_data}\n",
        "\n",
        "        for id in self.id_list:\n",
        "            byte = self.hdf5_file[id][()]\n",
        "            stream = io.BytesIO(byte)\n",
        "            img = Image.open(stream).convert(\"RGB\")\n",
        "            img_tensor = self.transform(img) if self.transform else torchvision.transforms.ToTensor()(img)\n",
        "            label = torch.tensor(self.metadata_df[self.metadata_df['isic_id'] == id]['target'].values[0]).long()\n",
        "            table_data=torch.tensor(self.preprocessed_dict.get(id),dtype=torch.float32)\n",
        "            self._cached_data.append((id,img_tensor, label,table_data))\n",
        "\n",
        "    def __len__(self):\n",
        "        return len(self._cached_data)\n",
        "\n",
        "    def __getitem__(self, index):\n",
        "        return self._cached_data[index]"
      ]
    },
    {
      "cell_type": "markdown",
      "metadata": {
        "id": "2VacdmnLilSR"
      },
      "source": [
        "# Dataset"
      ]
    },
    {
      "cell_type": "code",
      "execution_count": null,
      "metadata": {
        "id": "2J6kelqyDHWT"
      },
      "outputs": [],
      "source": [
        "train_full_dataset=CustomIsicDataset(\"isic-data/train-image.hdf5\", train_df_split, preprocessed_data,preprocess)\n",
        "val_full_dataset=CustomIsicDataset(\"isic-data/train-image.hdf5\", val_df_split, preprocessed_data,preprocess)"
      ]
    },
    {
      "cell_type": "code",
      "execution_count": null,
      "metadata": {
        "id": "ueNIYt6Czt2x"
      },
      "outputs": [],
      "source": [
        "# train_dataset = CustomIsicImageDataset(\"isic-data/train-image.hdf5\", train_df_split, transform=preprocess)\n",
        "# val_dataset = CustomIsicImageDataset(\"isic-data/train-image.hdf5\", val_df_split, transform=preprocess)"
      ]
    },
    {
      "cell_type": "markdown",
      "metadata": {
        "id": "90oI_HZkjrEH"
      },
      "source": [
        "# DataLoader"
      ]
    },
    {
      "cell_type": "code",
      "execution_count": null,
      "metadata": {
        "id": "z57CW_GM8uDB"
      },
      "outputs": [],
      "source": [
        "from torch.utils.data import DataLoader, WeightedRandomSampler"
      ]
    },
    {
      "cell_type": "code",
      "execution_count": null,
      "metadata": {
        "id": "_WiNgFJd3uXY"
      },
      "outputs": [],
      "source": [
        "torch.manual_seed(42)\n",
        "torch.cuda.manual_seed(42)\n",
        "\n",
        "# Weighted sampler (replace 'y_train' with your actual label list or tensor)\n",
        "class_counts = np.bincount(y_train_table)\n",
        "class_weights = 1. / class_counts\n",
        "sample_weights = [class_weights[label] for label in y_train_table]\n",
        "sampler = WeightedRandomSampler(sample_weights, len(sample_weights), replacement=True)\n",
        "\n",
        "train_dataloader = DataLoader(train_full_dataset, batch_size=32, sampler=sampler, num_workers=os.cpu_count())\n",
        "val_dataloader = DataLoader(val_full_dataset, batch_size=32, shuffle=False, num_workers=os.cpu_count())"
      ]
    },
    {
      "cell_type": "markdown",
      "metadata": {
        "id": "-7N-4uE7oiTu"
      },
      "source": [
        "# pretrained model"
      ]
    },
    {
      "cell_type": "code",
      "execution_count": null,
      "metadata": {
        "id": "eWUErwR7_Elm"
      },
      "outputs": [],
      "source": [
        "torch.manual_seed(42)\n",
        "torch.cuda.manual_seed(42)\n",
        "model=torchvision.models.efficientnet_b0(weights=weights).to(device) #new weights"
      ]
    },
    {
      "cell_type": "code",
      "execution_count": null,
      "metadata": {
        "id": "knlADwuSuT6Y"
      },
      "outputs": [],
      "source": [
        "for param in model.parameters():\n",
        "  param.requires_grad=False\n",
        "\n",
        "# model.fc=torch.nn.Identity()\n",
        "model.classifier= nn.Sequential(\n",
        "  nn.Dropout(p=0.2, inplace=True),\n",
        "  nn.Linear(in_features=1280, out_features=2, bias=True)\n",
        ")"
      ]
    },
    {
      "cell_type": "code",
      "execution_count": null,
      "metadata": {
        "id": "yY19TptaHigg"
      },
      "outputs": [],
      "source": [
        "weight_per_class_tensor=torch.tensor(weight_per_class,device=device,dtype=torch.float32)"
      ]
    },
    {
      "cell_type": "code",
      "execution_count": null,
      "metadata": {
        "id": "iWxdIstqHO7X"
      },
      "outputs": [],
      "source": [
        "loss_fn=torch.nn.CrossEntropyLoss(weight=weight_per_class_tensor)\n",
        "optimizer=torch.optim.Adam(lr=0.0001,params=model.parameters(), weight_decay=1e-4)\n",
        "scheduler=torch.optim.lr_scheduler.ReduceLROnPlateau(optimizer, mode='min', factor=0.1, patience=3)"
      ]
    },
    {
      "cell_type": "code",
      "execution_count": null,
      "metadata": {
        "colab": {
          "base_uri": "https://localhost:8080/",
          "height": 1000,
          "referenced_widgets": [
            "d3e18854d9d74d7ca2fb8101f22ae80c",
            "8d9f7d06802a41c987597688611b3d56",
            "8b9cc515f98740aba1c7d76e165df928",
            "1668fd628d204294802dbf022792d87d",
            "f65608f7a0da46e6817668d85ce97235",
            "a8a5d9a7961d42fabeea007fffa34fd2",
            "536d86af670a40bab2f66f607ac7a03e",
            "802b50b43cf549808c8071355440bd8b",
            "adb37fd5d4f241a4a9f1fc36e2552668",
            "9c08f11b2c344431a8918e76115375d1",
            "2083bc7649354dc4babfdfb29c0d907c"
          ]
        },
        "id": "fcZUaC9JHFA3",
        "outputId": "e6f5ee61-92a0-4e0d-83a8-550878744823"
      },
      "outputs": [
        {
          "data": {
            "application/vnd.jupyter.widget-view+json": {
              "model_id": "d3e18854d9d74d7ca2fb8101f22ae80c",
              "version_major": 2,
              "version_minor": 0
            },
            "text/plain": [
              "  0%|          | 0/10 [00:00<?, ?it/s]"
            ]
          },
          "metadata": {},
          "output_type": "display_data"
        },
        {
          "name": "stdout",
          "output_type": "stream",
          "text": [
            "Epoch: 1 | train_loss: 0.6684 | train_acc: 0.7023 | test_loss: 0.6678 | test_acc: 0.6635\n",
            "Precision per class: [0.86432927 0.28611898]\n",
            "Recall per class:    [0.69230769 0.53157895]\n",
            "F1-score per class:  [0.76881356 0.37200737]\n",
            "AUC-ROC (ovr):       0.6488657541289121\n",
            "Confusion Matrix:\n",
            " [[567, 252], [89, 101]]\n",
            "Epoch: 2 | train_loss: 0.6235 | train_acc: 0.7675 | test_loss: 0.6499 | test_acc: 0.7240\n",
            "Precision per class: [0.88555079 0.35483871]\n",
            "Recall per class:    [0.75579976 0.57894737]\n",
            "F1-score per class:  [0.81554677 0.44      ]\n",
            "AUC-ROC (ovr):       0.7049289891395154\n",
            "Confusion Matrix:\n",
            " [[619, 200], [80, 110]]\n",
            "Epoch: 3 | train_loss: 0.6042 | train_acc: 0.7930 | test_loss: 0.6373 | test_acc: 0.7308\n",
            "Precision per class: [0.87603306 0.35335689]\n",
            "Recall per class:    [0.77655678 0.52631579]\n",
            "F1-score per class:  [0.82330097 0.42283298]\n",
            "AUC-ROC (ovr):       0.7257695520853416\n",
            "Confusion Matrix:\n",
            " [[636, 183], [90, 100]]\n",
            "Epoch: 4 | train_loss: 0.5849 | train_acc: 0.7862 | test_loss: 0.6271 | test_acc: 0.7416\n",
            "Precision per class: [0.88626907 0.375     ]\n",
            "Recall per class:    [0.78021978 0.56842105]\n",
            "F1-score per class:  [0.82987013 0.45188285]\n",
            "AUC-ROC (ovr):       0.7376132639290534\n",
            "Confusion Matrix:\n",
            " [[639, 180], [82, 108]]\n",
            "Epoch: 5 | train_loss: 0.5789 | train_acc: 0.8125 | test_loss: 0.6233 | test_acc: 0.7503\n",
            "Precision per class: [0.87834225 0.37931034]\n",
            "Recall per class:    [0.8021978  0.52105263]\n",
            "F1-score per class:  [0.83854499 0.43902439]\n",
            "AUC-ROC (ovr):       0.7374590321958744\n",
            "Confusion Matrix:\n",
            " [[657, 162], [91, 99]]\n",
            "Epoch: 6 | train_loss: 0.5726 | train_acc: 0.7851 | test_loss: 0.6116 | test_acc: 0.7572\n",
            "Precision per class: [0.88768606 0.3962963 ]\n",
            "Recall per class:    [0.8009768  0.56315789]\n",
            "F1-score per class:  [0.84210526 0.46521739]\n",
            "AUC-ROC (ovr):       0.7528950581582159\n",
            "Confusion Matrix:\n",
            " [[656, 163], [83, 107]]\n",
            "Epoch: 7 | train_loss: 0.5478 | train_acc: 0.8018 | test_loss: 0.6079 | test_acc: 0.7679\n",
            "Precision per class: [0.88829787 0.41245136]\n",
            "Recall per class:    [0.81562882 0.55789474]\n",
            "F1-score per class:  [0.85041375 0.47427293]\n",
            "AUC-ROC (ovr):       0.7547458389563652\n",
            "Confusion Matrix:\n",
            " [[668, 151], [84, 106]]\n",
            "Epoch: 8 | train_loss: 0.5145 | train_acc: 0.8462 | test_loss: 0.6131 | test_acc: 0.7806\n",
            "Precision per class: [0.87452949 0.4245283 ]\n",
            "Recall per class:    [0.85103785 0.47368421]\n",
            "F1-score per class:  [0.86262376 0.44776119]\n",
            "AUC-ROC (ovr):       0.7539039907460959\n",
            "Confusion Matrix:\n",
            " [[697, 122], [100, 90]]\n",
            "Epoch: 9 | train_loss: 0.5033 | train_acc: 0.8454 | test_loss: 0.6054 | test_acc: 0.7865\n",
            "Precision per class: [0.88020177 0.43981481]\n",
            "Recall per class:    [0.85225885 0.5       ]\n",
            "F1-score per class:  [0.86600496 0.4679803 ]\n",
            "AUC-ROC (ovr):       0.7583381530749951\n",
            "Confusion Matrix:\n",
            " [[698, 121], [95, 95]]\n",
            "Epoch: 10 | train_loss: 0.5292 | train_acc: 0.8429 | test_loss: 0.5984 | test_acc: 0.7865\n",
            "Precision per class: [0.89206762 0.44583333]\n",
            "Recall per class:    [0.83760684 0.56315789]\n",
            "F1-score per class:  [0.86397985 0.49767442]\n",
            "AUC-ROC (ovr):       0.761050061050061\n",
            "Confusion Matrix:\n",
            " [[686, 133], [83, 107]]\n"
          ]
        }
      ],
      "source": [
        "torch.manual_seed(42)\n",
        "torch.cuda.manual_seed(42)\n",
        "results, metrics_dict, full_train_info, full_test_info=train(model=model,\n",
        "             train_dataloader=train_dataloader,\n",
        "             test_dataloader=val_dataloader,\n",
        "             optimizer=optimizer,\n",
        "             scheduler=scheduler,\n",
        "             loss_fn=loss_fn,\n",
        "             epochs=10,\n",
        "             device=device)"
      ]
    },
    {
      "cell_type": "code",
      "execution_count": null,
      "metadata": {
        "colab": {
          "base_uri": "https://localhost:8080/",
          "height": 607
        },
        "id": "K8dLT0RMRA0R",
        "outputId": "259d6cdf-fe1c-4969-9982-02fa81edc9ed"
      },
      "outputs": [
        {
          "data": {
            "image/png": "[encoded data removed]",
            "text/plain": [
              "<Figure size 1800x600 with 3 Axes>"
            ]
          },
          "metadata": {},
          "output_type": "display_data"
        }
      ],
      "source": [
        "import matplotlib.pyplot as plt\n",
        "\n",
        "plt.figure(figsize=(18,6))\n",
        "\n",
        "# Loss curves\n",
        "plt.subplot(1,3,1)\n",
        "plt.plot(results['train_loss'], c='r', label=\"Train Loss\")\n",
        "plt.plot(results['test_loss'], c='g', label=\"Test Loss\")\n",
        "plt.xlabel(\"Epoch\")\n",
        "plt.ylabel(\"Loss\")\n",
        "plt.title(\"Loss over Epochs\")\n",
        "plt.legend()\n",
        "\n",
        "# Accuracy curves\n",
        "plt.subplot(1,3,2)\n",
        "plt.plot(results['train_acc'], c='r', label=\"Train Accuracy\")\n",
        "plt.plot(results['test_acc'], c='g', label=\"Test Accuracy\")\n",
        "plt.xlabel(\"Epoch\")\n",
        "plt.ylabel(\"Accuracy\")\n",
        "plt.title(\"Accuracy over Epochs\")\n",
        "plt.legend()\n",
        "\n",
        "# AUC and F1 curves\n",
        "plt.subplot(1,3,3)\n",
        "plt.plot(results['auc_roc'], c='b', label=\"AUC-ROC\")\n",
        "f1_class1 = [f[1] for f in results['f1']]\n",
        "\n",
        "plt.plot(f1_class1, c='m', label=\"F1 (Class 1)\")\n",
        "plt.xlabel(\"Epoch\")\n",
        "plt.ylabel(\"Score\")\n",
        "plt.title(\"AUC-ROC and F1 over Epochs\")\n",
        "plt.legend()\n",
        "\n",
        "plt.tight_layout()\n",
        "plt.show()\n"
      ]
    },
    {
      "cell_type": "markdown",
      "metadata": {
        "id": "1f3XzWh0bH4O"
      },
      "source": [
        "# IMAGE ONLY RESULTS\n",
        "\n",
        "![image.png](data:image/png;base64,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)"
      ]
    },
    {
      "cell_type": "code",
      "execution_count": null,
      "metadata": {
        "id": "o37rrP2pf5eP"
      },
      "outputs": [],
      "source": [
        "# ---------- Train ----------\n",
        "labels = full_train_info[\"labels\"]\n",
        "metadata = full_train_info[\"metadata\"]\n",
        "ids = full_train_info[\"ids\"]\n",
        "probs = full_train_info[\"probs\"]  # shape: (N, 2)\n",
        "\n",
        "# Create column names for metadata\n",
        "num_features = metadata.shape[1]\n",
        "metadata_cols = [f\"meta_{i}\" for i in range(num_features)]\n",
        "\n",
        "# Build the DataFrame\n",
        "df_train = pd.DataFrame(metadata, columns=metadata_cols)\n",
        "df_train[\"label\"] = labels\n",
        "# df_train[\"id\"] = ids\n",
        "df_train[\"prob_class_0\"] = probs[:, 0]\n",
        "df_train[\"prob_class_1\"] = probs[:, 1]\n",
        "\n",
        "# ---------- Validation/Test ----------\n",
        "val_labels = full_test_info[\"labels\"]\n",
        "val_metadata = full_test_info[\"metadata\"]\n",
        "val_ids = full_test_info[\"ids\"]\n",
        "val_probs = full_test_info[\"probs\"]  # shape: (N, 2)\n",
        "\n",
        "# Create column names for metadata\n",
        "num_val_features = val_metadata.shape[1]\n",
        "val_metadata_cols = [f\"meta_{i}\" for i in range(num_val_features)]\n",
        "\n",
        "# Build the DataFrame\n",
        "df_val = pd.DataFrame(val_metadata, columns=val_metadata_cols)\n",
        "df_val[\"label\"] = val_labels\n",
        "# df_val[\"id\"] = val_ids\n",
        "df_val[\"prob_class_0\"] = val_probs[:, 0]\n",
        "df_val[\"prob_class_1\"] = val_probs[:, 1]\n"
      ]
    },
    {
      "cell_type": "code",
      "execution_count": null,
      "metadata": {
        "colab": {
          "base_uri": "https://localhost:8080/"
        },
        "id": "bAoJFPwprYJT",
        "outputId": "41bde6d0-a364-4efa-d955-45cd9942bd86"
      },
      "outputs": [
        {
          "data": {
            "text/plain": [
              "(np.float64(1186.0), np.float64(-6.833967685699463))"
            ]
          },
          "execution_count": 312,
          "metadata": {},
          "output_type": "execute_result"
        }
      ],
      "source": [
        "df_train.to_numpy().max(),df_train.to_numpy().min()"
      ]
    },
    {
      "cell_type": "code",
      "execution_count": null,
      "metadata": {
        "id": "jJ52InmFf7KP"
      },
      "outputs": [],
      "source": [
        "X_train=df_train.drop(\"label\",axis=1)\n",
        "X_val=df_val.drop(\"label\",axis=1)\n",
        "y_train=df_train['label']\n",
        "y_val=df_val['label']"
      ]
    },
    {
      "cell_type": "markdown",
      "metadata": {
        "id": "HF_LxpzXrhtS"
      },
      "source": [
        "# getting data ready for ML Models"
      ]
    },
    {
      "cell_type": "code",
      "execution_count": null,
      "metadata": {
        "id": "TzM8z7fYlpmF"
      },
      "outputs": [],
      "source": [
        "train_df=train_df.reset_index()"
      ]
    },
    {
      "cell_type": "code",
      "execution_count": null,
      "metadata": {
        "id": "MJ88P1LKPGhb"
      },
      "outputs": [],
      "source": [
        "from sklearn.metrics import classification_report\n",
        "from sklearn.model_selection import cross_val_score\n",
        "import numpy as np\n",
        "import time\n",
        "from sklearn.metrics import classification_report, roc_auc_score\n",
        "from sklearn.model_selection import cross_val_score\n",
        "import numpy as np\n",
        "import time\n",
        "\n",
        "def get_model_report(model_name, scaler, X_train, y_train, X_test, y_test, seed=42):\n",
        "    # Scale data\n",
        "    scaled_X_train = scaler.fit_transform(X_train)\n",
        "    scaled_X_test = scaler.transform(X_test)\n",
        "\n",
        "    # Initialize model\n",
        "    model = model_name(random_state=seed, class_weight='balanced')\n",
        "\n",
        "    # Measure training time\n",
        "    start_train = time.time()\n",
        "    model.fit(scaled_X_train, y_train)\n",
        "    train_time = time.time() - start_train\n",
        "\n",
        "    # Measure inference time\n",
        "    start_infer = time.time()\n",
        "    pred = model.predict(scaled_X_test)\n",
        "    infer_time = time.time() - start_infer\n",
        "\n",
        "    # Get probabilities or decision function\n",
        "    try:\n",
        "        pred_proba = model.predict_proba(scaled_X_test)[:, 1]\n",
        "    except AttributeError:\n",
        "        try:\n",
        "            pred_proba = model.decision_function(scaled_X_test)\n",
        "        except AttributeError:\n",
        "            pred_proba = None\n",
        "\n",
        "    # Compute AUC if possible\n",
        "    if pred_proba is not None:\n",
        "        auc_score = roc_auc_score(y_test, pred_proba)\n",
        "    else:\n",
        "        auc_score = \"N/A (no proba/decision_function)\"\n",
        "\n",
        "    # Classification report and cross-validation\n",
        "    report = classification_report(y_test, pred)\n",
        "    # cv = cross_val_score(model, scaled_X_train, y_train, cv=5, scoring='f1_macro')\n",
        "    # cv = np.round(cv.mean(), 2)\n",
        "\n",
        "    print(f'Train Time:{train_time:.4f} | Inference Time:{infer_time:.4f} | AUC: {auc_score}')\n",
        "\n",
        "    return report, model.__class__.__name__, pred"
      ]
    },
    {
      "cell_type": "markdown",
      "metadata": {
        "id": "ozxnBZdnHrpr"
      },
      "source": [
        "# RandomForestClassifier"
      ]
    },
    {
      "cell_type": "code",
      "execution_count": null,
      "metadata": {
        "colab": {
          "base_uri": "https://localhost:8080/"
        },
        "id": "LjIlDXx44BJ9",
        "outputId": "a5d66cd3-c4d7-472f-9bfc-12db80f0fbf1"
      },
      "outputs": [
        {
          "name": "stdout",
          "output_type": "stream",
          "text": [
            "Train Time:0.5218 | Inference Time:0.0171 | AUC: 0.9317460317460317\n",
            "              precision    recall  f1-score   support\n",
            "\n",
            "           0       0.88      0.99      0.93       819\n",
            "           1       0.88      0.42      0.57       190\n",
            "\n",
            "    accuracy                           0.88      1009\n",
            "   macro avg       0.88      0.70      0.75      1009\n",
            "weighted avg       0.88      0.88      0.86      1009\n",
            "\n"
          ]
        }
      ],
      "source": [
        "rfc_rep,rfc,rfc_pred=get_model_report(RandomForestClassifier,StandardScaler(),X_train, y_train, X_val, y_val)\n",
        "print(rfc_rep)"
      ]
    },
    {
      "cell_type": "markdown",
      "metadata": {
        "id": "D8c5YiDT5-fu"
      },
      "source": [
        "# LGBMClassifier"
      ]
    },
    {
      "cell_type": "code",
      "execution_count": null,
      "metadata": {
        "colab": {
          "base_uri": "https://localhost:8080/"
        },
        "id": "Tc6FL0LSHdoZ",
        "outputId": "4cba952b-5966-4d30-bcf6-45a770acd2a0"
      },
      "outputs": [
        {
          "name": "stdout",
          "output_type": "stream",
          "text": [
            "[LightGBM] [Info] Number of positive: 183, number of negative: 1004\n",
            "[LightGBM] [Info] Auto-choosing col-wise multi-threading, the overhead of testing was 0.000857 seconds.\n",
            "You can set `force_col_wise=true` to remove the overhead.\n",
            "[LightGBM] [Info] Total Bins 9416\n",
            "[LightGBM] [Info] Number of data points in the train set: 1187, number of used features: 46\n",
            "[LightGBM] [Info] [binary:BoostFromScore]: pavg=0.500000 -> initscore=-0.000000\n",
            "[LightGBM] [Info] Start training from score -0.000000\n",
            "[LightGBM] [Warning] No further splits with positive gain, best gain: -inf\n",
            "[LightGBM] [Warning] No further splits with positive gain, best gain: -inf\n",
            "[LightGBM] [Warning] No further splits with positive gain, best gain: -inf\n",
            "[LightGBM] [Warning] No further splits with positive gain, best gain: -inf\n"
          ]
        },
        {
          "name": "stderr",
          "output_type": "stream",
          "text": [
            "/usr/local/lib/python3.11/dist-packages/sklearn/utils/deprecation.py:151: FutureWarning: 'force_all_finite' was renamed to 'ensure_all_finite' in 1.6 and will be removed in 1.8.\n",
            "  warnings.warn(\n"
          ]
        },
        {
          "name": "stdout",
          "output_type": "stream",
          "text": [
            "Train Time:0.3481 | Inference Time:0.0112 | AUC: 0.9093567251461989\n",
            "              precision    recall  f1-score   support\n",
            "\n",
            "           0       0.91      0.97      0.94       819\n",
            "           1       0.81      0.59      0.68       190\n",
            "\n",
            "    accuracy                           0.90      1009\n",
            "   macro avg       0.86      0.78      0.81      1009\n",
            "weighted avg       0.89      0.90      0.89      1009\n",
            "\n"
          ]
        },
        {
          "name": "stderr",
          "output_type": "stream",
          "text": [
            "/usr/local/lib/python3.11/dist-packages/sklearn/utils/deprecation.py:151: FutureWarning: 'force_all_finite' was renamed to 'ensure_all_finite' in 1.6 and will be removed in 1.8.\n",
            "  warnings.warn(\n",
            "/usr/local/lib/python3.11/dist-packages/sklearn/utils/deprecation.py:151: FutureWarning: 'force_all_finite' was renamed to 'ensure_all_finite' in 1.6 and will be removed in 1.8.\n",
            "  warnings.warn(\n"
          ]
        }
      ],
      "source": [
        "lgbm_rep,lgbm,lgbm_pred=get_model_report(LGBMClassifier,StandardScaler(),X_train, y_train, X_val, y_val)\n",
        "print(lgbm_rep)"
      ]
    },
    {
      "cell_type": "markdown",
      "metadata": {
        "id": "AuPvsT0WWHrF"
      },
      "source": [
        "# support vector classifier"
      ]
    },
    {
      "cell_type": "code",
      "execution_count": null,
      "metadata": {
        "colab": {
          "base_uri": "https://localhost:8080/"
        },
        "id": "AxWaumK1VfR3",
        "outputId": "1b16596f-ed09-4d8f-fc88-e8feabd52a9e"
      },
      "outputs": [
        {
          "name": "stdout",
          "output_type": "stream",
          "text": [
            "Train Time:0.0376 | Inference Time:0.0344 | AUC: 0.9232118758434548\n",
            "              precision    recall  f1-score   support\n",
            "\n",
            "           0       0.95      0.88      0.91       819\n",
            "           1       0.60      0.79      0.68       190\n",
            "\n",
            "    accuracy                           0.86      1009\n",
            "   macro avg       0.78      0.83      0.80      1009\n",
            "weighted avg       0.88      0.86      0.87      1009\n",
            "\n"
          ]
        }
      ],
      "source": [
        "svc_rep,svc,svc_pred=get_model_report(SVC,StandardScaler(),X_train, y_train, X_val, y_val)\n",
        "print(svc_rep)"
      ]
    },
    {
      "cell_type": "markdown",
      "metadata": {
        "id": "Y4WgVzE5-IWX"
      },
      "source": [
        "# LogisticRegression"
      ]
    },
    {
      "cell_type": "code",
      "execution_count": null,
      "metadata": {
        "colab": {
          "base_uri": "https://localhost:8080/"
        },
        "id": "ArUcLxiA6ubV",
        "outputId": "683523c6-a22a-4d9f-a87e-d8f3bd4be06a"
      },
      "outputs": [
        {
          "name": "stdout",
          "output_type": "stream",
          "text": [
            "Train Time:0.0165 | Inference Time:0.0003 | AUC: 0.8979628558575927\n",
            "              precision    recall  f1-score   support\n",
            "\n",
            "           0       0.96      0.70      0.81       819\n",
            "           1       0.41      0.89      0.56       190\n",
            "\n",
            "    accuracy                           0.73      1009\n",
            "   macro avg       0.69      0.79      0.68      1009\n",
            "weighted avg       0.86      0.73      0.76      1009\n",
            "\n"
          ]
        }
      ],
      "source": [
        "logr_rep,logr,logr_pred=get_model_report(LogisticRegression,StandardScaler(),X_train, y_train, X_val, y_val)\n",
        "print(logr_rep)"
      ]
    },
    {
      "cell_type": "markdown",
      "metadata": {
        "id": "Uc38FzR8ChvS"
      },
      "source": [
        "# CONFUSION MATRIX"
      ]
    },
    {
      "cell_type": "code",
      "execution_count": null,
      "metadata": {
        "colab": {
          "base_uri": "https://localhost:8080/",
          "height": 1000
        },
        "id": "nK5B1hg5r8Q7",
        "outputId": "5fc203b3-41a9-44b7-d56e-d196aa019e58"
      },
      "outputs": [
        {
          "data": {
            "image/png": "[encoded data removed]",
            "text/plain": [
              "<Figure size 1200x1000 with 8 Axes>"
            ]
          },
          "metadata": {},
          "output_type": "display_data"
        }
      ],
      "source": [
        "label_names = list(label_dict.values())\n",
        "label_names\n",
        "def get_conf_matrix(predictions, model_name, i):\n",
        "    cm = confusion_matrix(y_val, predictions)\n",
        "    sns.heatmap(cm, annot=True, fmt='d', cmap='coolwarm', linewidths=.5, ax=ax[i],xticklabels=label_names, yticklabels=label_names)\n",
        "\n",
        "    ax[i].set_title(model_name)\n",
        "    ax[i].set_xlabel('Predicted Label')\n",
        "    ax[i].set_ylabel('True Label')\n",
        "\n",
        "\n",
        "fig, ax = plt.subplots(2, 2, figsize=(12, 10))\n",
        "ax = ax.flatten()\n",
        "\n",
        "get_conf_matrix(rfc_pred, \"RandomForestClassifier\", 0)\n",
        "get_conf_matrix(logr_pred, \"LogisticRegression\", 1)\n",
        "get_conf_matrix(svc_pred, \"Support Vector Classifier\", 2)\n",
        "get_conf_matrix(lgbm_pred, \"LGBMClassifier\", 3)\n",
        "\n",
        "plt.tight_layout()\n",
        "plt.show()"
      ]
    },
    {
      "cell_type": "code",
      "execution_count": null,
      "metadata": {
        "colab": {
          "base_uri": "https://localhost:8080/"
        },
        "id": "BYoumQpClABH",
        "outputId": "34fcfada-acf8-4f34-a3bf-1a634ff5ecb1"
      },
      "outputs": [
        {
          "data": {
            "text/plain": [
              "{'precision': array([0.89206762, 0.44583333]),\n",
              " 'recall': array([0.83760684, 0.56315789]),\n",
              " 'f1': array([0.86397985, 0.49767442]),\n",
              " 'auc_roc': np.float64(0.761050061050061)}"
            ]
          },
          "execution_count": 323,
          "metadata": {},
          "output_type": "execute_result"
        }
      ],
      "source": [
        "metrics_dict"
      ]
    }
  ],
  "metadata": {
    "accelerator": "GPU",
    "colab": {
      "collapsed_sections": [
        "8_2lVSfhSHvd",
        "TuTBGAUZSF_0"
      ],
      "gpuType": "T4",
      "provenance": [],
      "include_colab_link": true
    },
    "kernelspec": {
      "display_name": "Python 3",
      "name": "python3"
    },
    "language_info": {
      "name": "python"
    }
  },
  "nbformat": 4,
  "nbformat_minor": 0
}