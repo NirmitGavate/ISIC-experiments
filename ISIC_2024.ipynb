{
  "cells": [
    {
      "cell_type": "markdown",
      "metadata": {
        "id": "view-in-github",
        "colab_type": "text"
      },
      "source": [
        "<a href=\"https://colab.research.google.com/github/NirmitGavate/ISIC-experiments/blob/main/ISIC_2024.ipynb\" target=\"_parent\"><img src=\"https://colab.research.google.com/assets/colab-badge.svg\" alt=\"Open In Colab\"/></a>"
      ]
    },
    {
      "cell_type": "code",
      "execution_count": null,
      "metadata": {
        "id": "xDmpxBKaTQit"
      },
      "outputs": [],
      "source": [
        "\"\"\"\n",
        "Contains functions for training and testing a PyTorch model.\n",
        "\"\"\"\n",
        "import torch\n",
        "from tqdm.auto import tqdm\n",
        "from typing import Dict, List, Tuple\n",
        "import numpy as np\n",
        "from sklearn.metrics import precision_recall_fscore_support, roc_auc_score, confusion_matrix\n",
        "\n",
        "def train_step(model: torch.nn.Module,\n",
        "               dataloader: torch.utils.data.DataLoader,\n",
        "               loss_fn: torch.nn.Module,\n",
        "               optimizer: torch.optim.Optimizer,\n",
        "               device: torch.device) -> Tuple[float, float, List[int], List[int], List[List[float]], torch.Tensor, List[str]]:\n",
        "    model.train()\n",
        "    train_loss, train_acc = 0, 0\n",
        "    all_preds = []\n",
        "    all_labels = []\n",
        "    all_probs = []\n",
        "    all_md = []\n",
        "    all_ids = []\n",
        "\n",
        "    for batch, (id, X, y, md) in enumerate(dataloader):\n",
        "        X, y = X.to(device), y.to(device)\n",
        "\n",
        "        y_pred = model(X)\n",
        "        loss = loss_fn(y_pred, y)\n",
        "        train_loss += loss.item()\n",
        "\n",
        "        optimizer.zero_grad()\n",
        "        loss.backward()\n",
        "        optimizer.step()\n",
        "\n",
        "        probs = torch.softmax(y_pred, dim=1)\n",
        "        preds = torch.argmax(probs, dim=1)\n",
        "        train_acc += (preds == y).sum().item() / len(y)\n",
        "\n",
        "        all_preds.extend(preds.cpu().tolist())\n",
        "        all_labels.extend(y.cpu().tolist())\n",
        "        all_probs.extend(probs.cpu().tolist())\n",
        "        all_md.append(md)\n",
        "        all_ids.extend(id)\n",
        "\n",
        "    train_loss /= len(dataloader)\n",
        "    train_acc /= len(dataloader)\n",
        "    all_md_tensor = torch.cat(all_md, dim=0).cpu()\n",
        "\n",
        "    return train_loss, train_acc, all_preds, all_labels, all_probs, all_md_tensor, all_ids\n",
        "\n",
        "\n",
        "def test_step(model: torch.nn.Module,\n",
        "              dataloader: torch.utils.data.DataLoader,\n",
        "              loss_fn: torch.nn.Module,\n",
        "              device: torch.device) -> Tuple[float, float, Dict[str, float], List[List[int]],\n",
        "                                             List[int], List[int], List[List[float]], torch.Tensor, List[str]]:\n",
        "    model.eval()\n",
        "    test_loss, test_acc = 0, 0\n",
        "    all_preds = []\n",
        "    all_labels = []\n",
        "    all_probs = []\n",
        "    all_md = []\n",
        "    all_ids = []\n",
        "\n",
        "    with torch.inference_mode():\n",
        "        for batch, (id, X, y, md) in enumerate(dataloader):\n",
        "            X, y = X.to(device), y.to(device)\n",
        "\n",
        "            logits = model(X)\n",
        "            loss = loss_fn(logits, y)\n",
        "            test_loss += loss.item()\n",
        "\n",
        "            probs = torch.softmax(logits, dim=1)\n",
        "            preds = torch.argmax(probs, dim=1)\n",
        "            test_acc += (preds == y).sum().item() / len(y)\n",
        "\n",
        "            all_preds.extend(preds.cpu().tolist())\n",
        "            all_labels.extend(y.cpu().tolist())\n",
        "            all_probs.extend(probs.cpu().tolist())\n",
        "            all_md.append(md)\n",
        "            all_ids.extend(id)\n",
        "\n",
        "    test_loss /= len(dataloader)\n",
        "    test_acc /= len(dataloader)\n",
        "\n",
        "    precision, recall, f1, _ = precision_recall_fscore_support(\n",
        "        all_labels, all_preds, average=None, zero_division=0)\n",
        "\n",
        "    all_preds = np.array(all_preds)\n",
        "    all_labels = np.array(all_labels)\n",
        "    all_probs = np.array(all_probs)\n",
        "\n",
        "    auc = roc_auc_score(all_labels, all_probs[:, 1])\n",
        "    conf_mat = confusion_matrix(all_labels, all_preds)\n",
        "\n",
        "    metrics_dict = {\n",
        "        \"precision\": precision,\n",
        "        \"recall\": recall,\n",
        "        \"f1\": f1,\n",
        "        \"auc_roc\": auc\n",
        "    }\n",
        "\n",
        "    all_md_tensor = torch.cat(all_md, dim=0).cpu()\n",
        "\n",
        "    return (test_loss, test_acc, metrics_dict, conf_mat.tolist(),\n",
        "            all_preds.tolist(), all_labels.tolist(), all_probs.tolist(), all_md_tensor, all_ids)\n",
        "\n",
        "\n",
        "def train(model: torch.nn.Module,\n",
        "          train_dataloader: torch.utils.data.DataLoader,\n",
        "          test_dataloader: torch.utils.data.DataLoader,\n",
        "          optimizer: torch.optim.Optimizer,\n",
        "          loss_fn: torch.nn.Module,\n",
        "          scheduler: torch.optim.Optimizer,\n",
        "          epochs: int,\n",
        "          device: torch.device) -> Tuple[Dict[str, List], Dict[str, float], Dict, Dict]:\n",
        "\n",
        "    results = {\n",
        "        \"train_loss\": [],\n",
        "        \"train_acc\": [],\n",
        "        \"test_loss\": [],\n",
        "        \"test_acc\": [],\n",
        "        \"precision\": [],\n",
        "        \"recall\": [],\n",
        "        \"f1\": [],\n",
        "        \"auc_roc\": [],\n",
        "        \"conf_matrix\": []\n",
        "    }\n",
        "\n",
        "    # initialize dicts to store only the last epoch's info\n",
        "    full_train_info = {\"labels\": [], \"preds\": [], \"probs\": None, \"metadata\": None, \"ids\": []}\n",
        "    full_test_info = {\"labels\": [], \"preds\": [], \"probs\": None, \"metadata\": None, \"ids\": []}\n",
        "\n",
        "    model.to(device)\n",
        "\n",
        "    for epoch in tqdm(range(epochs)):\n",
        "        train_loss, train_acc, train_preds, train_labels, train_probs, train_md, train_ids = train_step(\n",
        "            model=model,\n",
        "            dataloader=train_dataloader,\n",
        "            loss_fn=loss_fn,\n",
        "            optimizer=optimizer,\n",
        "            device=device)\n",
        "\n",
        "        test_loss, test_acc, metrics_dict, conf_matrix, test_preds, test_labels, test_probs, test_md, test_ids = test_step(\n",
        "            model=model,\n",
        "            dataloader=test_dataloader,\n",
        "            loss_fn=loss_fn,\n",
        "            device=device)\n",
        "\n",
        "        # scheduler.step(test_loss)  # optional\n",
        "\n",
        "        print(\n",
        "            f\"Epoch: {epoch+1} | \"\n",
        "            f\"train_loss: {train_loss:.4f} | train_acc: {train_acc:.4f} | \"\n",
        "            f\"test_loss: {test_loss:.4f} | test_acc: {test_acc:.4f}\"\n",
        "        )\n",
        "        print(\"Precision per class:\", metrics_dict[\"precision\"])\n",
        "        print(\"Recall per class:   \", metrics_dict[\"recall\"])\n",
        "        print(\"F1-score per class: \", metrics_dict[\"f1\"])\n",
        "        print(\"AUC-ROC (ovr):      \", metrics_dict[\"auc_roc\"])\n",
        "        print(\"Confusion Matrix:\\n\", conf_matrix)\n",
        "\n",
        "        # Store metrics per epoch\n",
        "        results[\"train_loss\"].append(train_loss)\n",
        "        results[\"train_acc\"].append(train_acc)\n",
        "        results[\"test_loss\"].append(test_loss)\n",
        "        results[\"test_acc\"].append(test_acc)\n",
        "        results[\"precision\"].append(metrics_dict[\"precision\"].tolist())\n",
        "        results[\"recall\"].append(metrics_dict[\"recall\"].tolist())\n",
        "        results[\"f1\"].append(metrics_dict[\"f1\"].tolist())\n",
        "        results[\"auc_roc\"].append(metrics_dict[\"auc_roc\"])\n",
        "        results[\"conf_matrix\"].append(conf_matrix)\n",
        "\n",
        "        # Save only the last epoch's metadata/probs\n",
        "        if epoch == epochs - 1:\n",
        "            full_train_info[\"labels\"] = train_labels\n",
        "            full_train_info[\"preds\"] = train_preds\n",
        "            full_train_info[\"probs\"] = np.array(train_probs)\n",
        "            full_train_info[\"metadata\"] = train_md.cpu().numpy()\n",
        "            full_train_info[\"ids\"] = train_ids\n",
        "\n",
        "            full_test_info[\"labels\"] = test_labels\n",
        "            full_test_info[\"preds\"] = test_preds\n",
        "            full_test_info[\"probs\"] = np.array(test_probs)\n",
        "            full_test_info[\"metadata\"] = test_md.cpu().numpy()\n",
        "            full_test_info[\"ids\"] = test_ids\n",
        "\n",
        "    return results, metrics_dict, full_train_info, full_test_info"
      ]
    },
    {
      "cell_type": "code",
      "execution_count": null,
      "metadata": {
        "colab": {
          "base_uri": "https://localhost:8080/"
        },
        "id": "gZi_6MkqtNbb",
        "outputId": "786abf92-76cc-4cc2-8f19-bea77826a815"
      },
      "outputs": [
        {
          "name": "stdout",
          "output_type": "stream",
          "text": [
            "\u001b[?25l   \u001b[90m━━━━━━━━━━━━━━━━━━━━━━━━━━━━━━━━━━━━━━━━\u001b[0m \u001b[32m0.0/395.9 kB\u001b[0m \u001b[31m?\u001b[0m eta \u001b[36m-:--:--\u001b[0m\r",
            "\u001b[2K   \u001b[90m━━━━━━━━━━━━━━━━━━━━━━━━━━━━━━━━━━━━━━━━\u001b[0m \u001b[32m395.9/395.9 kB\u001b[0m \u001b[31m28.4 MB/s\u001b[0m eta \u001b[36m0:00:00\u001b[0m\n",
            "\u001b[?25h\u001b[?25l   \u001b[90m━━━━━━━━━━━━━━━━━━━━━━━━━━━━━━━━━━━━━━━━\u001b[0m \u001b[32m0.0/242.7 kB\u001b[0m \u001b[31m?\u001b[0m eta \u001b[36m-:--:--\u001b[0m\r",
            "\u001b[2K   \u001b[90m━━━━━━━━━━━━━━━━━━━━━━━━━━━━━━━━━━━━━━━━\u001b[0m \u001b[32m242.7/242.7 kB\u001b[0m \u001b[31m22.8 MB/s\u001b[0m eta \u001b[36m0:00:00\u001b[0m\n",
            "\u001b[?25h"
          ]
        }
      ],
      "source": [
        "!pip install -q torchinfo optuna"
      ]
    },
    {
      "cell_type": "markdown",
      "metadata": {
        "id": "-pczrFmFpJIm"
      },
      "source": [
        "# IMPORTS"
      ]
    },
    {
      "cell_type": "code",
      "execution_count": null,
      "metadata": {
        "id": "gwigNReCZqOJ"
      },
      "outputs": [],
      "source": [
        "import os\n",
        "import io\n",
        "import random\n",
        "import requests\n",
        "import h5py\n",
        "import numpy as np\n",
        "import pandas as pd\n",
        "import seaborn as sns\n",
        "import matplotlib.pyplot as plt\n",
        "from glob import glob\n",
        "from PIL import Image\n",
        "from tqdm.auto import tqdm\n",
        "\n",
        "import torch\n",
        "from torch import nn\n",
        "from torch.utils.data import DataLoader, Dataset, random_split\n",
        "import torchvision\n",
        "from torchvision import transforms\n",
        "from torchinfo import summary\n",
        "\n",
        "from sklearn.model_selection import (\n",
        "    train_test_split, GroupKFold, cross_val_score\n",
        ")\n",
        "from sklearn.utils.class_weight import compute_class_weight\n",
        "from sklearn.metrics import accuracy_score\n",
        "from sklearn.preprocessing import (\n",
        "    StandardScaler, MinMaxScaler, OneHotEncoder,OrdinalEncoder\n",
        ")\n",
        "from sklearn.impute import SimpleImputer\n",
        "from sklearn.compose import ColumnTransformer\n",
        "from sklearn.pipeline import Pipeline\n",
        "from sklearn.decomposition import PCA\n",
        "from sklearn.tree import DecisionTreeClassifier\n",
        "from sklearn.ensemble import RandomForestClassifier\n",
        "from sklearn.linear_model import LogisticRegression\n",
        "from sklearn.svm import SVC\n",
        "from sklearn.neighbors import KNeighborsClassifier\n",
        "from sklearn.compose import make_column_selector as selector\n",
        "\n",
        "from imblearn.over_sampling import SMOTE\n",
        "from sklearn.metrics import precision_recall_fscore_support, roc_auc_score, confusion_matrix\n",
        "import kagglehub\n",
        "from google.colab import files\n",
        "import optuna\n",
        "from sklearn.metrics import confusion_matrix\n",
        "from lightgbm import LGBMClassifier"
      ]
    },
    {
      "cell_type": "code",
      "execution_count": null,
      "metadata": {
        "id": "dk0trHm1nNMW"
      },
      "outputs": [],
      "source": [
        "import os\n",
        "os.environ[\"CUDA_LAUNCH_BLOCKING\"] = \"1\""
      ]
    },
    {
      "cell_type": "code",
      "execution_count": null,
      "metadata": {
        "id": "EZ-5Eh4dJ-te"
      },
      "outputs": [],
      "source": [
        "# !git clone https://github.com/mrdbourke/pytorch-deep-learning\n",
        "# !mv pytorch-deep-learning/going_modular .\n",
        "# !rm -rf pytorch-deep-learning"
      ]
    },
    {
      "cell_type": "code",
      "execution_count": null,
      "metadata": {
        "colab": {
          "base_uri": "https://localhost:8080/",
          "height": 36
        },
        "id": "NCGNiQZZBBwe",
        "outputId": "deb6411e-2ab4-4a47-c169-9a74c32381c4"
      },
      "outputs": [
        {
          "data": {
            "application/vnd.google.colaboratory.intrinsic+json": {
              "type": "string"
            },
            "text/plain": [
              "'cuda'"
            ]
          },
          "execution_count": 6,
          "metadata": {},
          "output_type": "execute_result"
        }
      ],
      "source": [
        "device=\"cuda\" if torch.cuda.is_available() else \"cpu\"\n",
        "device"
      ]
    },
    {
      "cell_type": "code",
      "execution_count": null,
      "metadata": {
        "colab": {
          "base_uri": "https://localhost:8080/",
          "height": 91
        },
        "id": "IIqjpgTYeie0",
        "outputId": "ac67a1cc-460b-4c5c-d05e-1cb5d74dd3c7"
      },
      "outputs": [
        {
          "data": {
            "text/html": [
              "\n",
              "     <input type=\"file\" id=\"files-3795a781-fc1d-4332-b3d7-7004d14f8860\" name=\"files[]\" multiple disabled\n",
              "        style=\"border:none\" />\n",
              "     <output id=\"result-3795a781-fc1d-4332-b3d7-7004d14f8860\">\n",
              "      Upload widget is only available when the cell has been executed in the\n",
              "      current browser session. Please rerun this cell to enable.\n",
              "      </output>\n",
              "      <script>// Copyright 2017 Google LLC\n",
              "//\n",
              "// Licensed under the Apache License, Version 2.0 (the \"License\");\n",
              "// you may not use this file except in compliance with the License.\n",
              "// You may obtain a copy of the License at\n",
              "//\n",
              "//      http://www.apache.org/licenses/LICENSE-2.0\n",
              "//\n",
              "// Unless required by applicable law or agreed to in writing, software\n",
              "// distributed under the License is distributed on an \"AS IS\" BASIS,\n",
              "// WITHOUT WARRANTIES OR CONDITIONS OF ANY KIND, either express or implied.\n",
              "// See the License for the specific language governing permissions and\n",
              "// limitations under the License.\n",
              "\n",
              "/**\n",
              " * @fileoverview Helpers for google.colab Python module.\n",
              " */\n",
              "(function(scope) {\n",
              "function span(text, styleAttributes = {}) {\n",
              "  const element = document.createElement('span');\n",
              "  element.textContent = text;\n",
              "  for (const key of Object.keys(styleAttributes)) {\n",
              "    element.style[key] = styleAttributes[key];\n",
              "  }\n",
              "  return element;\n",
              "}\n",
              "\n",
              "// Max number of bytes which will be uploaded at a time.\n",
              "const MAX_PAYLOAD_SIZE = 100 * 1024;\n",
              "\n",
              "function _uploadFiles(inputId, outputId) {\n",
              "  const steps = uploadFilesStep(inputId, outputId);\n",
              "  const outputElement = document.getElementById(outputId);\n",
              "  // Cache steps on the outputElement to make it available for the next call\n",
              "  // to uploadFilesContinue from Python.\n",
              "  outputElement.steps = steps;\n",
              "\n",
              "  return _uploadFilesContinue(outputId);\n",
              "}\n",
              "\n",
              "// This is roughly an async generator (not supported in the browser yet),\n",
              "// where there are multiple asynchronous steps and the Python side is going\n",
              "// to poll for completion of each step.\n",
              "// This uses a Promise to block the python side on completion of each step,\n",
              "// then passes the result of the previous step as the input to the next step.\n",
              "function _uploadFilesContinue(outputId) {\n",
              "  const outputElement = document.getElementById(outputId);\n",
              "  const steps = outputElement.steps;\n",
              "\n",
              "  const next = steps.next(outputElement.lastPromiseValue);\n",
              "  return Promise.resolve(next.value.promise).then((value) => {\n",
              "    // Cache the last promise value to make it available to the next\n",
              "    // step of the generator.\n",
              "    outputElement.lastPromiseValue = value;\n",
              "    return next.value.response;\n",
              "  });\n",
              "}\n",
              "\n",
              "/**\n",
              " * Generator function which is called between each async step of the upload\n",
              " * process.\n",
              " * @param {string} inputId Element ID of the input file picker element.\n",
              " * @param {string} outputId Element ID of the output display.\n",
              " * @return {!Iterable<!Object>} Iterable of next steps.\n",
              " */\n",
              "function* uploadFilesStep(inputId, outputId) {\n",
              "  const inputElement = document.getElementById(inputId);\n",
              "  inputElement.disabled = false;\n",
              "\n",
              "  const outputElement = document.getElementById(outputId);\n",
              "  outputElement.innerHTML = '';\n",
              "\n",
              "  const pickedPromise = new Promise((resolve) => {\n",
              "    inputElement.addEventListener('change', (e) => {\n",
              "      resolve(e.target.files);\n",
              "    });\n",
              "  });\n",
              "\n",
              "  const cancel = document.createElement('button');\n",
              "  inputElement.parentElement.appendChild(cancel);\n",
              "  cancel.textContent = 'Cancel upload';\n",
              "  const cancelPromise = new Promise((resolve) => {\n",
              "    cancel.onclick = () => {\n",
              "      resolve(null);\n",
              "    };\n",
              "  });\n",
              "\n",
              "  // Wait for the user to pick the files.\n",
              "  const files = yield {\n",
              "    promise: Promise.race([pickedPromise, cancelPromise]),\n",
              "    response: {\n",
              "      action: 'starting',\n",
              "    }\n",
              "  };\n",
              "\n",
              "  cancel.remove();\n",
              "\n",
              "  // Disable the input element since further picks are not allowed.\n",
              "  inputElement.disabled = true;\n",
              "\n",
              "  if (!files) {\n",
              "    return {\n",
              "      response: {\n",
              "        action: 'complete',\n",
              "      }\n",
              "    };\n",
              "  }\n",
              "\n",
              "  for (const file of files) {\n",
              "    const li = document.createElement('li');\n",
              "    li.append(span(file.name, {fontWeight: 'bold'}));\n",
              "    li.append(span(\n",
              "        `(${file.type || 'n/a'}) - ${file.size} bytes, ` +\n",
              "        `last modified: ${\n",
              "            file.lastModifiedDate ? file.lastModifiedDate.toLocaleDateString() :\n",
              "                                    'n/a'} - `));\n",
              "    const percent = span('0% done');\n",
              "    li.appendChild(percent);\n",
              "\n",
              "    outputElement.appendChild(li);\n",
              "\n",
              "    const fileDataPromise = new Promise((resolve) => {\n",
              "      const reader = new FileReader();\n",
              "      reader.onload = (e) => {\n",
              "        resolve(e.target.result);\n",
              "      };\n",
              "      reader.readAsArrayBuffer(file);\n",
              "    });\n",
              "    // Wait for the data to be ready.\n",
              "    let fileData = yield {\n",
              "      promise: fileDataPromise,\n",
              "      response: {\n",
              "        action: 'continue',\n",
              "      }\n",
              "    };\n",
              "\n",
              "    // Use a chunked sending to avoid message size limits. See b/62115660.\n",
              "    let position = 0;\n",
              "    do {\n",
              "      const length = Math.min(fileData.byteLength - position, MAX_PAYLOAD_SIZE);\n",
              "      const chunk = new Uint8Array(fileData, position, length);\n",
              "      position += length;\n",
              "\n",
              "      const base64 = btoa(String.fromCharCode.apply(null, chunk));\n",
              "      yield {\n",
              "        response: {\n",
              "          action: 'append',\n",
              "          file: file.name,\n",
              "          data: base64,\n",
              "        },\n",
              "      };\n",
              "\n",
              "      let percentDone = fileData.byteLength === 0 ?\n",
              "          100 :\n",
              "          Math.round((position / fileData.byteLength) * 100);\n",
              "      percent.textContent = `${percentDone}% done`;\n",
              "\n",
              "    } while (position < fileData.byteLength);\n",
              "  }\n",
              "\n",
              "  // All done.\n",
              "  yield {\n",
              "    response: {\n",
              "      action: 'complete',\n",
              "    }\n",
              "  };\n",
              "}\n",
              "\n",
              "scope.google = scope.google || {};\n",
              "scope.google.colab = scope.google.colab || {};\n",
              "scope.google.colab._files = {\n",
              "  _uploadFiles,\n",
              "  _uploadFilesContinue,\n",
              "};\n",
              "})(self);\n",
              "</script> "
            ],
            "text/plain": [
              "<IPython.core.display.HTML object>"
            ]
          },
          "metadata": {},
          "output_type": "display_data"
        },
        {
          "name": "stdout",
          "output_type": "stream",
          "text": [
            "Saving kaggle.json to kaggle.json\n"
          ]
        },
        {
          "data": {
            "text/plain": [
              "{'kaggle.json': b'{\"username\":\"nirmitgavate1\",\"key\":\"1ee654377f2a3c2587302cb05da4662a\"}'}"
            ]
          },
          "execution_count": 7,
          "metadata": {},
          "output_type": "execute_result"
        }
      ],
      "source": [
        "files.upload()"
      ]
    },
    {
      "cell_type": "code",
      "execution_count": null,
      "metadata": {
        "id": "3PgdGr3UeshR"
      },
      "outputs": [],
      "source": [
        "!mkdir -p ~/.kaggle\n",
        "!cp kaggle.json ~/.kaggle/\n",
        "!chmod 600 ~/.kaggle/kaggle.json"
      ]
    },
    {
      "cell_type": "code",
      "execution_count": null,
      "metadata": {
        "colab": {
          "base_uri": "https://localhost:8080/"
        },
        "id": "U3ApJQaKf0Io",
        "outputId": "549048f5-6b2e-4e30-b2ce-15369d33bdbd"
      },
      "outputs": [
        {
          "name": "stdout",
          "output_type": "stream",
          "text": [
            "Downloading isic-2024-challenge.zip to /content\n",
            "100% 1.99G/2.00G [00:27<00:00, 172MB/s]\n",
            "100% 2.00G/2.00G [00:27<00:00, 77.7MB/s]\n"
          ]
        }
      ],
      "source": [
        "!kaggle competitions download -c isic-2024-challenge"
      ]
    },
    {
      "cell_type": "code",
      "execution_count": null,
      "metadata": {
        "id": "w8Zc-chVf0Cn"
      },
      "outputs": [],
      "source": [
        "!unzip -q isic-2024-challenge.zip -d isic-data"
      ]
    },
    {
      "cell_type": "markdown",
      "metadata": {
        "id": "v1oDU8kjkR-3"
      },
      "source": [
        "# metadata"
      ]
    },
    {
      "cell_type": "code",
      "execution_count": null,
      "metadata": {
        "colab": {
          "base_uri": "https://localhost:8080/"
        },
        "id": "8RHw7s8oqUi7",
        "outputId": "57daf03e-37a1-4982-ea17-f9a23b3a83b8"
      },
      "outputs": [
        {
          "name": "stderr",
          "output_type": "stream",
          "text": [
            "/tmp/ipython-input-11-3357258532.py:1: DtypeWarning: Columns (51,52) have mixed types. Specify dtype option on import or set low_memory=False.\n",
            "  train_df=pd.read_csv(\"isic-data/train-metadata.csv\")\n"
          ]
        }
      ],
      "source": [
        "train_df=pd.read_csv(\"isic-data/train-metadata.csv\")"
      ]
    },
    {
      "cell_type": "markdown",
      "metadata": {
        "id": "5shANCrJpMYf"
      },
      "source": [
        "#UNDERSAMPLING AND OVERSAMPLING"
      ]
    },
    {
      "cell_type": "code",
      "execution_count": null,
      "metadata": {
        "colab": {
          "base_uri": "https://localhost:8080/"
        },
        "id": "mYO-zpZ2PYq0",
        "outputId": "5577dfed-f31d-4e21-a730-cd06ace50ec1"
      },
      "outputs": [
        {
          "data": {
            "text/plain": [
              "1202"
            ]
          },
          "execution_count": 12,
          "metadata": {},
          "output_type": "execute_result"
        }
      ],
      "source": [
        "len(train_df[train_df['target']==0].sample(frac=0.003,random_state=42))"
      ]
    },
    {
      "cell_type": "code",
      "execution_count": null,
      "metadata": {
        "colab": {
          "base_uri": "https://localhost:8080/"
        },
        "id": "rpm6t8n8SOHl",
        "outputId": "51e2139d-dd76-4fbd-faf0-9eb6d7229cd7"
      },
      "outputs": [
        {
          "name": "stdout",
          "output_type": "stream",
          "text": [
            "Distribution before sampling\n"
          ]
        },
        {
          "data": {
            "text/plain": [
              "(target\n",
              " 0    99.902009\n",
              " 1     0.097991\n",
              " Name: count, dtype: float64,\n",
              " target\n",
              " 0    400666\n",
              " 1       393\n",
              " Name: count, dtype: int64)"
            ]
          },
          "execution_count": 14,
          "metadata": {},
          "output_type": "execute_result"
        }
      ],
      "source": [
        "print(\"Distribution before sampling\")\n",
        "(train_df['target'].value_counts()/len(train_df))*100,train_df['target'].value_counts()"
      ]
    },
    {
      "cell_type": "code",
      "execution_count": null,
      "metadata": {
        "id": "B5ITO2_HK3pC"
      },
      "outputs": [],
      "source": [
        "train_df=train_df.drop(['iddx_1','iddx_full','image_type'],axis=1)"
      ]
    },
    {
      "cell_type": "code",
      "execution_count": null,
      "metadata": {
        "id": "slJhhp6WTtIa"
      },
      "outputs": [],
      "source": [
        "benign=train_df[train_df['target']==0].sample(frac=0.003,random_state=42)\n",
        "malignant=train_df[train_df['target']==1].sample(frac=1.0,random_state=42)"
      ]
    },
    {
      "cell_type": "code",
      "execution_count": null,
      "metadata": {
        "id": "GLbaPrfPUo_j"
      },
      "outputs": [],
      "source": [
        "train_df=pd.concat([benign,malignant])"
      ]
    },
    {
      "cell_type": "code",
      "execution_count": null,
      "metadata": {
        "colab": {
          "base_uri": "https://localhost:8080/"
        },
        "id": "1Y70AnOaVf7Q",
        "outputId": "99069d47-fd9a-4fa3-8876-bc22e974a148"
      },
      "outputs": [
        {
          "name": "stdout",
          "output_type": "stream",
          "text": [
            "Distribution after sampling\n"
          ]
        },
        {
          "data": {
            "text/plain": [
              "(target\n",
              " 0    75.360502\n",
              " 1    24.639498\n",
              " Name: count, dtype: float64,\n",
              " target\n",
              " 0    1202\n",
              " 1     393\n",
              " Name: count, dtype: int64)"
            ]
          },
          "execution_count": 18,
          "metadata": {},
          "output_type": "execute_result"
        }
      ],
      "source": [
        "print(\"Distribution after sampling\")\n",
        "(train_df['target'].value_counts()/len(train_df))*100,train_df['target'].value_counts()"
      ]
    },
    {
      "cell_type": "code",
      "execution_count": null,
      "metadata": {
        "id": "3XmcUNC7kUvn"
      },
      "outputs": [],
      "source": [
        "null_percentage_series=(train_df.isnull().sum()/len(train_df))*100\n",
        "\n",
        "cols_to_keep=null_percentage_series[~(null_percentage_series>60)].index\n",
        "train_df=train_df[cols_to_keep]\n",
        "\n",
        "numeric_cols=list(train_df.drop(\"target\",axis=1).select_dtypes(exclude=\"object\").columns)\n",
        "object_cols=list(train_df.select_dtypes(include=\"object\").columns)"
      ]
    },
    {
      "cell_type": "code",
      "execution_count": null,
      "metadata": {
        "id": "802IV_wKmp0e"
      },
      "outputs": [],
      "source": [
        "#fill nulls and preprocessing\n",
        "numeric_pipeline = Pipeline(steps=[\n",
        "    ('imputer', SimpleImputer(strategy='mean')),\n",
        "    ('scaler', StandardScaler())\n",
        "])\n",
        "\n",
        "categorical_pipeline = Pipeline(steps=[\n",
        "    ('imputer', SimpleImputer(strategy='most_frequent')),\n",
        "    ('encoder', OrdinalEncoder(handle_unknown='use_encoded_value',unknown_value=-1))\n",
        "])\n",
        "\n",
        "preprocessor = ColumnTransformer(transformers=[\n",
        "    ('num', numeric_pipeline, numeric_cols),\n",
        "    ('cat', categorical_pipeline, object_cols)\n",
        "])"
      ]
    },
    {
      "cell_type": "code",
      "execution_count": null,
      "metadata": {
        "id": "XnAcd_RLnO0r"
      },
      "outputs": [],
      "source": [
        "X=train_df.drop(\"target\",axis=1)\n",
        "y=train_df['target']"
      ]
    },
    {
      "cell_type": "code",
      "execution_count": null,
      "metadata": {
        "colab": {
          "base_uri": "https://localhost:8080/"
        },
        "id": "PC6TPLb0VJJC",
        "outputId": "9074c360-1a96-45f0-bb47-744e0b642f8f"
      },
      "outputs": [
        {
          "data": {
            "text/plain": [
              "({0: np.float64(0.663477537437604), 1: np.float64(2.0292620865139948)},\n",
              " array([0.66347754, 2.02926209]))"
            ]
          },
          "execution_count": 22,
          "metadata": {},
          "output_type": "execute_result"
        }
      ],
      "source": [
        "weight_per_class=compute_class_weight(class_weight=\"balanced\",classes=np.unique(y),y=y)\n",
        "weights_to_idx={v:k for v,k in enumerate(weight_per_class)}\n",
        "weights_to_idx,weight_per_class"
      ]
    },
    {
      "cell_type": "code",
      "execution_count": null,
      "metadata": {
        "id": "6fxRchkAJqOi"
      },
      "outputs": [],
      "source": [
        "from sklearn.model_selection import StratifiedGroupKFold\n",
        "\n",
        "sgkf = StratifiedGroupKFold(n_splits=2, shuffle=True, random_state=42)\n",
        "\n",
        "X = train_df[X.columns]\n",
        "y = train_df['target']\n",
        "groups = train_df['patient_id']\n",
        "\n",
        "for train_idx, val_idx in sgkf.split(X, y, groups):\n",
        "    train_df_split = train_df.iloc[train_idx].reset_index(drop=True)\n",
        "    val_df_split = train_df.iloc[val_idx].reset_index(drop=True)\n",
        "    break\n",
        "\n",
        "X_train_table = train_df_split[X.columns]\n",
        "X_valid_table = val_df_split[X.columns]\n",
        "y_train_table = train_df_split['target']\n",
        "y_valid_table = val_df_split['target']\n",
        "\n",
        "X_train_table_preprocessed=preprocessor.fit_transform(X_train_table)\n",
        "X_valid_table_preprocessed=preprocessor.transform(X_valid_table)"
      ]
    },
    {
      "cell_type": "code",
      "execution_count": null,
      "metadata": {
        "id": "gkgk8CMm7EgL"
      },
      "outputs": [],
      "source": [
        "preprocessor_feature_names = preprocessor.get_feature_names_out()"
      ]
    },
    {
      "cell_type": "code",
      "execution_count": null,
      "metadata": {
        "id": "tsICQjAC7E9i"
      },
      "outputs": [],
      "source": [
        "sample_df=pd.DataFrame(X_train_table_preprocessed, columns=preprocessor_feature_names)\n",
        "sample_df['target']=y_train_table.values\n",
        "metadata_corr=sample_df.corr()['target'].sort_values(ascending=False)"
      ]
    },
    {
      "cell_type": "code",
      "execution_count": null,
      "metadata": {
        "id": "v36TS_okQTnU"
      },
      "outputs": [],
      "source": [
        "train_ids=train_df.iloc[train_idx]['isic_id'].values\n",
        "val_ids=train_df.iloc[val_idx]['isic_id'].values"
      ]
    },
    {
      "cell_type": "code",
      "execution_count": null,
      "metadata": {
        "id": "OgF3QDSSQj4T"
      },
      "outputs": [],
      "source": [
        "preprocessed_train_data=[]\n",
        "preprocessed_valid_data=[]\n",
        "for id,data in zip(train_ids,X_train_table_preprocessed):\n",
        "  preprocessed_train_data.append((data,id))\n",
        "for id,data in zip(val_ids,X_valid_table_preprocessed):\n",
        "  preprocessed_valid_data.append((data,id))"
      ]
    },
    {
      "cell_type": "code",
      "execution_count": null,
      "metadata": {
        "id": "_6iv95d7SVo9"
      },
      "outputs": [],
      "source": [
        "preprocessed_data=preprocessed_train_data+preprocessed_valid_data"
      ]
    },
    {
      "cell_type": "code",
      "execution_count": null,
      "metadata": {
        "id": "6pu9qsu-rP7D"
      },
      "outputs": [],
      "source": [
        "label_dict={0: 'benign', 1: 'malignant'}"
      ]
    },
    {
      "cell_type": "code",
      "execution_count": null,
      "metadata": {
        "id": "y5FLvWabkIf7"
      },
      "outputs": [],
      "source": [
        "# with h5py.File(\"isic-data/train-image.hdf5\",\"r\") as f:\n",
        "#   train_isic_ids=list(f.keys())\n",
        "with h5py.File(\"isic-data/test-image.hdf5\",\"r\") as f:\n",
        "  test_isic_ids=list(f.keys())"
      ]
    },
    {
      "cell_type": "code",
      "execution_count": null,
      "metadata": {
        "id": "Jw8Eee0WYGl4"
      },
      "outputs": [],
      "source": [
        "train_isic_ids=np.array(train_df.reset_index()['isic_id'].unique())"
      ]
    },
    {
      "cell_type": "markdown",
      "metadata": {
        "id": "8_2lVSfhSHvd"
      },
      "source": [
        "# Train Images"
      ]
    },
    {
      "cell_type": "code",
      "execution_count": null,
      "metadata": {
        "id": "L_jEjPpyRZk6"
      },
      "outputs": [],
      "source": [
        "train_df=train_df.set_index(\"isic_id\")"
      ]
    },
    {
      "cell_type": "code",
      "execution_count": null,
      "metadata": {
        "id": "5BArqFxgiB-l"
      },
      "outputs": [],
      "source": [
        "# fig,ax=plt.subplots(1,3,figsize=(12,6))\n",
        "# ax=ax.flatten()\n",
        "# for i in range(3):\n",
        "#   id=np.random.choice(train_isic_ids)\n",
        "#   label=train_df.loc[id]['target']\n",
        "#   with h5py.File(\"isic-data/train-image.hdf5\",'r') as f:\n",
        "#     byte=f[id][()]\n",
        "#   stream=io.BytesIO(byte)\n",
        "#   img=Image.open(stream)\n",
        "#   ax[i].imshow(img)\n",
        "#   ax[i].set_title(f\"{id}|{img.size} \\n label:{label_dict[label]}\",fontsize=8)\n",
        "#   ax[i].axis(False)\n",
        "# plt.subplots_adjust(wspace=0.5)\n",
        "# plt.show()"
      ]
    },
    {
      "cell_type": "markdown",
      "metadata": {
        "id": "TuTBGAUZSF_0"
      },
      "source": [
        "# Test Images"
      ]
    },
    {
      "cell_type": "code",
      "execution_count": null,
      "metadata": {
        "id": "aC8slIOKRk_0"
      },
      "outputs": [],
      "source": [
        "# fig,ax=plt.subplots(1,3,figsize=(12,6))\n",
        "# ax=ax.flatten()\n",
        "# for i in range(3):\n",
        "#   id=np.random.choice(test_isic_ids)\n",
        "#   with h5py.File(\"isic-data/test-image.hdf5\",'r') as f:\n",
        "#     byte=f[id][()]\n",
        "#   stream=io.BytesIO(byte)\n",
        "#   img=Image.open(stream)\n",
        "#   ax[i].imshow(img)\n",
        "#   ax[i].set_title(f\"{id}|{img.size}\",fontsize=8)\n",
        "#   ax[i].axis(False)\n",
        "# plt.subplots_adjust(wspace=0.5)\n",
        "# # plt.suptitle(\"Test Image\")\n",
        "# plt.show()"
      ]
    },
    {
      "cell_type": "code",
      "execution_count": null,
      "metadata": {
        "id": "s75vE0ZSXmPp"
      },
      "outputs": [],
      "source": [
        "# custom_transform=transforms.Compose([\n",
        "#     transforms.Resize(size=(128,128)),\n",
        "#     transforms.TrivialAugmentWide(num_magnitude_bins=31)\n",
        "# ])"
      ]
    },
    {
      "cell_type": "code",
      "execution_count": null,
      "metadata": {
        "id": "fmygnvIrms29"
      },
      "outputs": [],
      "source": [
        "# id=np.random.choice(train_isic_ids)\n",
        "# with h5py.File(\"isic-data/train-image.hdf5\",'r') as f:\n",
        "#   byte=f[id][()]\n",
        "# streamer=io.BytesIO(byte)\n",
        "# plt.subplot(1,2,1)\n",
        "# img=Image.open(streamer)\n",
        "# plt.imshow(img)\n",
        "# plt.title(f\"original image | {img.size}\",fontsize=8)\n",
        "# plt.axis(False)\n",
        "# plt.subplot(1,2,2)\n",
        "# ti=custom_transform(img)\n",
        "# # print(ti.shape)\n",
        "# # plt.title(\"transformed image\")\n",
        "# plt.title(f\"transformed image | {ti.size}\",fontsize=8)\n",
        "# plt.imshow(ti)\n",
        "# plt.axis(False)\n",
        "# plt.show()"
      ]
    },
    {
      "cell_type": "code",
      "execution_count": null,
      "metadata": {
        "id": "pSo1q8_woT8j"
      },
      "outputs": [],
      "source": [
        "benign_isic_ids=np.array(train_df[train_df['target']==0].index)\n",
        "malignant_isic_ids=np.array(train_df[train_df['target']==1].index)"
      ]
    },
    {
      "cell_type": "markdown",
      "metadata": {
        "id": "O0wj7bBOif64"
      },
      "source": [
        "# Loading weights for pretrained model"
      ]
    },
    {
      "cell_type": "code",
      "execution_count": null,
      "metadata": {
        "id": "LaHAqyzQ-ffO"
      },
      "outputs": [],
      "source": [
        "weights=torchvision.models.EfficientNet_B0_Weights.DEFAULT\n",
        "preprocess = weights.transforms()"
      ]
    },
    {
      "cell_type": "code",
      "execution_count": null,
      "metadata": {
        "id": "BkGQN5_j4vQk"
      },
      "outputs": [],
      "source": [
        "torch.manual_seed(42)\n",
        "torch.cuda.manual_seed(42)\n",
        "augmented_transform = transforms.Compose([\n",
        "    transforms.Resize(256),\n",
        "    transforms.RandomHorizontalFlip(p=0.5),  # Light, safe spatial augmentation\n",
        "    # transforms.TrivialAugmentWide(31),\n",
        "    transforms.CenterCrop(224),\n",
        "    transforms.ColorJitter(brightness=0.1, contrast=0.1),  # Mild color variation\n",
        "    transforms.ToTensor(),\n",
        "    transforms.Normalize(mean=[0.485, 0.456, 0.406],\n",
        "                         std=[0.229, 0.224, 0.225])\n",
        "])"
      ]
    },
    {
      "cell_type": "markdown",
      "metadata": {
        "id": "8MxQHo7EidFI"
      },
      "source": [
        "# Custom Dataset Class"
      ]
    },
    {
      "cell_type": "code",
      "execution_count": null,
      "metadata": {
        "id": "Sp9Ht3QUoyhJ"
      },
      "outputs": [],
      "source": [
        "# class CustomIsicImageDataset(Dataset):\n",
        "#     def __init__(self, dir_path, metadata_df, augmented_transform=None, transform=None):\n",
        "#         self.dir_path = dir_path\n",
        "#         self.metadata_df = metadata_df\n",
        "#         self.transform = transform\n",
        "#         self.augmented_transform = augmented_transform\n",
        "#         self.id_list = sorted(metadata_df['isic_id'].astype(str).unique().tolist())\n",
        "#         self.hdf5_file = h5py.File(self.dir_path, 'r')\n",
        "#         self._cached_data = []\n",
        "\n",
        "#         for id in self.id_list:\n",
        "#             byte = self.hdf5_file[id][()]\n",
        "#             stream = io.BytesIO(byte)\n",
        "#             img = Image.open(stream).convert(\"RGB\")\n",
        "#             label = torch.tensor(\n",
        "#                 self.metadata_df[self.metadata_df['isic_id'] == id]['target'].values[0]\n",
        "#             ).long()\n",
        "\n",
        "#             if label == 1:\n",
        "#                 if self.augmented_transform:\n",
        "#                     img_tensor = self.augmented_transform(img)\n",
        "#                 else:\n",
        "#                     img_tensor = self.transform(img) if self.transform else torchvision.transforms.ToTensor()(img)\n",
        "#             else:\n",
        "#                 img_tensor = self.transform(img) if self.transform else torchvision.transforms.ToTensor()(img)\n",
        "\n",
        "#             self._cached_data.append((img_tensor, label))\n",
        "\n",
        "#     def __len__(self):\n",
        "#         return len(self._cached_data)\n",
        "\n",
        "#     def __getitem__(self, index):\n",
        "#         return self._cached_data[index]"
      ]
    },
    {
      "cell_type": "code",
      "execution_count": null,
      "metadata": {
        "id": "1fqSzkzrCRRs"
      },
      "outputs": [],
      "source": [
        "class CustomIsicDataset(Dataset):\n",
        "    def __init__(self, dir_path, metadata_df,preprocessed_data,transform=None):\n",
        "        self.dir_path = dir_path\n",
        "        self.metadata_df = metadata_df\n",
        "        self.transform = transform\n",
        "        self.id_list =  sorted(metadata_df['isic_id'].astype(str).unique().tolist())\n",
        "        self.hdf5_file = h5py.File(self.dir_path, 'r')\n",
        "        self._cached_data = []\n",
        "        self.preprocessed_data=preprocessed_data\n",
        "        self.preprocessed_dict={id:data for (data,id) in self.preprocessed_data}\n",
        "\n",
        "        for id in self.id_list:\n",
        "            byte = self.hdf5_file[id][()]\n",
        "            stream = io.BytesIO(byte)\n",
        "            img = Image.open(stream).convert(\"RGB\")\n",
        "            img_tensor = self.transform(img) if self.transform else torchvision.transforms.ToTensor()(img)\n",
        "            label = torch.tensor(self.metadata_df[self.metadata_df['isic_id'] == id]['target'].values[0]).long()\n",
        "            table_data=torch.tensor(self.preprocessed_dict.get(id),dtype=torch.float32)\n",
        "            self._cached_data.append((id,img_tensor, label,table_data))\n",
        "\n",
        "    def __len__(self):\n",
        "        return len(self._cached_data)\n",
        "\n",
        "    def __getitem__(self, index):\n",
        "        return self._cached_data[index]"
      ]
    },
    {
      "cell_type": "markdown",
      "metadata": {
        "id": "2VacdmnLilSR"
      },
      "source": [
        "# Dataset"
      ]
    },
    {
      "cell_type": "code",
      "execution_count": null,
      "metadata": {
        "id": "2J6kelqyDHWT"
      },
      "outputs": [],
      "source": [
        "train_full_dataset=CustomIsicDataset(\"isic-data/train-image.hdf5\", train_df_split, preprocessed_data,preprocess)\n",
        "val_full_dataset=CustomIsicDataset(\"isic-data/train-image.hdf5\", val_df_split, preprocessed_data,preprocess)"
      ]
    },
    {
      "cell_type": "code",
      "execution_count": null,
      "metadata": {
        "id": "ueNIYt6Czt2x"
      },
      "outputs": [],
      "source": [
        "# train_dataset = CustomIsicImageDataset(\"isic-data/train-image.hdf5\", train_df_split, transform=preprocess)\n",
        "# val_dataset = CustomIsicImageDataset(\"isic-data/train-image.hdf5\", val_df_split, transform=preprocess)"
      ]
    },
    {
      "cell_type": "markdown",
      "metadata": {
        "id": "90oI_HZkjrEH"
      },
      "source": [
        "# DataLoader"
      ]
    },
    {
      "cell_type": "code",
      "execution_count": null,
      "metadata": {
        "id": "z57CW_GM8uDB"
      },
      "outputs": [],
      "source": [
        "from torch.utils.data import DataLoader, WeightedRandomSampler"
      ]
    },
    {
      "cell_type": "code",
      "execution_count": null,
      "metadata": {
        "id": "_WiNgFJd3uXY"
      },
      "outputs": [],
      "source": [
        "torch.manual_seed(42)\n",
        "torch.cuda.manual_seed(42)\n",
        "\n",
        "# Weighted sampler (replace 'y_train' with your actual label list or tensor)\n",
        "class_counts = np.bincount(y_train_table)\n",
        "class_weights = 1. / class_counts\n",
        "sample_weights = [class_weights[label] for label in y_train_table]\n",
        "sampler = WeightedRandomSampler(sample_weights, len(sample_weights), replacement=True)\n",
        "\n",
        "train_dataloader = DataLoader(train_full_dataset, batch_size=32, sampler=sampler, num_workers=os.cpu_count())\n",
        "val_dataloader = DataLoader(val_full_dataset, batch_size=32, shuffle=False, num_workers=os.cpu_count())"
      ]
    },
    {
      "cell_type": "markdown",
      "metadata": {
        "id": "-7N-4uE7oiTu"
      },
      "source": [
        "# pretrained model"
      ]
    },
    {
      "cell_type": "code",
      "execution_count": null,
      "metadata": {
        "id": "eWUErwR7_Elm"
      },
      "outputs": [],
      "source": [
        "torch.manual_seed(42)\n",
        "torch.cuda.manual_seed(42)\n",
        "model=torchvision.models.efficientnet_b0(weights=weights).to(device) #new weights"
      ]
    },
    {
      "cell_type": "code",
      "execution_count": null,
      "metadata": {
        "id": "knlADwuSuT6Y"
      },
      "outputs": [],
      "source": [
        "for param in model.parameters():\n",
        "  param.requires_grad=False\n",
        "\n",
        "# model.fc=torch.nn.Identity()\n",
        "model.classifier= nn.Sequential(\n",
        "  nn.Dropout(p=0.2, inplace=True),\n",
        "  nn.Linear(in_features=1280, out_features=2, bias=True)\n",
        ")"
      ]
    },
    {
      "cell_type": "code",
      "execution_count": null,
      "metadata": {
        "id": "yY19TptaHigg"
      },
      "outputs": [],
      "source": [
        "weight_per_class_tensor=torch.tensor(weight_per_class,device=device,dtype=torch.float32)"
      ]
    },
    {
      "cell_type": "code",
      "execution_count": null,
      "metadata": {
        "id": "iWxdIstqHO7X"
      },
      "outputs": [],
      "source": [
        "loss_fn=torch.nn.CrossEntropyLoss(weight=weight_per_class_tensor)\n",
        "optimizer=torch.optim.Adam(lr=0.001,params=model.parameters(), weight_decay=1e-4)\n",
        "scheduler=torch.optim.lr_scheduler.ReduceLROnPlateau(optimizer, mode='min', factor=0.1, patience=3)"
      ]
    },
    {
      "cell_type": "code",
      "execution_count": null,
      "metadata": {
        "colab": {
          "base_uri": "https://localhost:8080/",
          "height": 1000,
          "referenced_widgets": [
            "ec67c8e0fdf7431499eea2be45dbd6f8",
            "d62a6c20d46848069786bddf29d83c74",
            "6ac33b946201419abe467146bcd2fe45",
            "cbc59ab940de4e15b81d42babfc0cbab",
            "ed9db72cfc23422fbc97c21b7ab20da7",
            "da67c061a97c4367b3556ced2a0c84ee",
            "63f22f4648d843fb9e3bb694ab7274df",
            "f9393ca29df94ac8b79bcfda365e40af",
            "f43e04c701514dc5889ebc6d18c42bed",
            "408893586f11450fa4d5193e492c8752",
            "5ed2802a7c9a4193aea7d81d752b6ac0"
          ]
        },
        "id": "fcZUaC9JHFA3",
        "outputId": "b2b21f2f-823d-43af-eee8-262263673867"
      },
      "outputs": [
        {
          "data": {
            "application/vnd.jupyter.widget-view+json": {
              "model_id": "ec67c8e0fdf7431499eea2be45dbd6f8",
              "version_major": 2,
              "version_minor": 0
            },
            "text/plain": [
              "  0%|          | 0/50 [00:00<?, ?it/s]"
            ]
          },
          "metadata": {},
          "output_type": "display_data"
        },
        {
          "name": "stdout",
          "output_type": "stream",
          "text": [
            "Epoch: 1 | train_loss: 0.6080 | train_acc: 0.6963 | test_loss: 0.6435 | test_acc: 0.5873\n",
            "Precision per class: [0.83550914 0.34975369]\n",
            "Recall per class:    [0.54794521 0.69268293]\n",
            "F1-score per class:  [0.66184074 0.46481178]\n",
            "AUC-ROC (ovr):       0.679143000334113\n",
            "Confusion Matrix:\n",
            " [[320, 264], [63, 142]]\n",
            "Epoch: 2 | train_loss: 0.5506 | train_acc: 0.7648 | test_loss: 0.5541 | test_acc: 0.7286\n",
            "Precision per class: [0.8788501  0.48344371]\n",
            "Recall per class:    [0.73287671 0.71219512]\n",
            "F1-score per class:  [0.79925303 0.57593688]\n",
            "AUC-ROC (ovr):       0.7927831607083194\n",
            "Confusion Matrix:\n",
            " [[428, 156], [59, 146]]\n",
            "Epoch: 3 | train_loss: 0.5030 | train_acc: 0.7716 | test_loss: 0.5621 | test_acc: 0.7636\n",
            "Precision per class: [0.86288848 0.53719008]\n",
            "Recall per class:    [0.80821918 0.63414634]\n",
            "F1-score per class:  [0.83465959 0.58165548]\n",
            "AUC-ROC (ovr):       0.7883812228533243\n",
            "Confusion Matrix:\n",
            " [[472, 112], [75, 130]]\n",
            "Epoch: 4 | train_loss: 0.4468 | train_acc: 0.8389 | test_loss: 0.5511 | test_acc: 0.7874\n",
            "Precision per class: [0.8659612  0.58108108]\n",
            "Recall per class:    [0.84075342 0.62926829]\n",
            "F1-score per class:  [0.85317116 0.60421546]\n",
            "AUC-ROC (ovr):       0.8032659538924156\n",
            "Confusion Matrix:\n",
            " [[491, 93], [76, 129]]\n",
            "Epoch: 5 | train_loss: 0.4775 | train_acc: 0.7833 | test_loss: 0.5239 | test_acc: 0.7599\n",
            "Precision per class: [0.866171   0.52988048]\n",
            "Recall per class:    [0.79794521 0.64878049]\n",
            "F1-score per class:  [0.83065954 0.58333333]\n",
            "AUC-ROC (ovr):       0.818125626461744\n",
            "Confusion Matrix:\n",
            " [[466, 118], [72, 133]]\n",
            "Epoch: 6 | train_loss: 0.4310 | train_acc: 0.8101 | test_loss: 0.5708 | test_acc: 0.7968\n",
            "Precision per class: [0.85074627 0.61827957]\n",
            "Recall per class:    [0.87842466 0.56097561]\n",
            "F1-score per class:  [0.86436394 0.58823529]\n",
            "AUC-ROC (ovr):       0.8020380888740395\n",
            "Confusion Matrix:\n",
            " [[513, 71], [90, 115]]\n",
            "Epoch: 7 | train_loss: 0.4563 | train_acc: 0.8017 | test_loss: 0.5204 | test_acc: 0.7417\n",
            "Precision per class: [0.8877551  0.50167224]\n",
            "Recall per class:    [0.74486301 0.73170732]\n",
            "F1-score per class:  [0.81005587 0.5952381 ]\n",
            "AUC-ROC (ovr):       0.8188690277313732\n",
            "Confusion Matrix:\n",
            " [[435, 149], [55, 150]]\n",
            "Epoch: 8 | train_loss: 0.4158 | train_acc: 0.8377 | test_loss: 0.5728 | test_acc: 0.7980\n",
            "Precision per class: [0.85215947 0.62032086]\n",
            "Recall per class:    [0.87842466 0.56585366]\n",
            "F1-score per class:  [0.86509275 0.59183673]\n",
            "AUC-ROC (ovr):       0.8041262946876044\n",
            "Confusion Matrix:\n",
            " [[513, 71], [89, 116]]\n",
            "Epoch: 9 | train_loss: 0.4186 | train_acc: 0.8169 | test_loss: 0.5805 | test_acc: 0.7874\n",
            "Precision per class: [0.85254237 0.59296482]\n",
            "Recall per class:    [0.86130137 0.57560976]\n",
            "F1-score per class:  [0.85689949 0.58415842]\n",
            "AUC-ROC (ovr):       0.8005930504510524\n",
            "Confusion Matrix:\n",
            " [[503, 81], [87, 118]]\n",
            "Epoch: 10 | train_loss: 0.3944 | train_acc: 0.8433 | test_loss: 0.5807 | test_acc: 0.7880\n",
            "Precision per class: [0.86111111 0.58685446]\n",
            "Recall per class:    [0.84931507 0.6097561 ]\n",
            "F1-score per class:  [0.85517241 0.59808612]\n",
            "AUC-ROC (ovr):       0.7951553625125292\n",
            "Confusion Matrix:\n",
            " [[496, 88], [80, 125]]\n",
            "Epoch: 11 | train_loss: 0.4033 | train_acc: 0.8305 | test_loss: 0.5195 | test_acc: 0.7686\n",
            "Precision per class: [0.88190476 0.54166667]\n",
            "Recall per class:    [0.79280822 0.69756098]\n",
            "F1-score per class:  [0.83498647 0.6098081 ]\n",
            "AUC-ROC (ovr):       0.8222602739726028\n",
            "Confusion Matrix:\n",
            " [[463, 121], [62, 143]]\n",
            "Epoch: 12 | train_loss: 0.4129 | train_acc: 0.8502 | test_loss: 0.5601 | test_acc: 0.7862\n",
            "Precision per class: [0.875      0.57383966]\n",
            "Recall per class:    [0.82705479 0.66341463]\n",
            "F1-score per class:  [0.85035211 0.61538462]\n",
            "AUC-ROC (ovr):       0.8036334781156032\n",
            "Confusion Matrix:\n",
            " [[483, 101], [69, 136]]\n",
            "Epoch: 13 | train_loss: 0.3906 | train_acc: 0.8285 | test_loss: 0.5532 | test_acc: 0.7743\n",
            "Precision per class: [0.86751361 0.55462185]\n",
            "Recall per class:    [0.81849315 0.64390244]\n",
            "F1-score per class:  [0.84229075 0.59593679]\n",
            "AUC-ROC (ovr):       0.8056381556966256\n",
            "Confusion Matrix:\n",
            " [[478, 106], [73, 132]]\n",
            "Epoch: 14 | train_loss: 0.3530 | train_acc: 0.8730 | test_loss: 0.5735 | test_acc: 0.7830\n",
            "Precision per class: [0.8639576  0.57399103]\n",
            "Recall per class:    [0.83732877 0.62439024]\n",
            "F1-score per class:  [0.85043478 0.59813084]\n",
            "AUC-ROC (ovr):       0.8040260608085534\n",
            "Confusion Matrix:\n",
            " [[489, 95], [77, 128]]\n",
            "Epoch: 15 | train_loss: 0.4140 | train_acc: 0.8201 | test_loss: 0.5600 | test_acc: 0.7887\n",
            "Precision per class: [0.86749117 0.58295964]\n",
            "Recall per class:    [0.84075342 0.63414634]\n",
            "F1-score per class:  [0.85391304 0.60747664]\n",
            "AUC-ROC (ovr):       0.8082525893752088\n",
            "Confusion Matrix:\n",
            " [[491, 93], [75, 130]]\n",
            "Epoch: 16 | train_loss: 0.3528 | train_acc: 0.8766 | test_loss: 0.5630 | test_acc: 0.7930\n",
            "Precision per class: [0.86458333 0.59624413]\n",
            "Recall per class:    [0.85273973 0.6195122 ]\n",
            "F1-score per class:  [0.85862069 0.6076555 ]\n",
            "AUC-ROC (ovr):       0.8131974607417307\n",
            "Confusion Matrix:\n",
            " [[498, 86], [78, 127]]\n",
            "Epoch: 17 | train_loss: 0.3539 | train_acc: 0.8558 | test_loss: 0.5323 | test_acc: 0.7761\n",
            "Precision per class: [0.87615527 0.55645161]\n",
            "Recall per class:    [0.81164384 0.67317073]\n",
            "F1-score per class:  [0.84266667 0.60927152]\n",
            "AUC-ROC (ovr):       0.8222853324423656\n",
            "Confusion Matrix:\n",
            " [[474, 110], [67, 138]]\n",
            "Epoch: 18 | train_loss: 0.3485 | train_acc: 0.8401 | test_loss: 0.5920 | test_acc: 0.7899\n",
            "Precision per class: [0.85067114 0.60103627]\n",
            "Recall per class:    [0.86815068 0.56585366]\n",
            "F1-score per class:  [0.85932203 0.58291457]\n",
            "AUC-ROC (ovr):       0.8111677246909456\n",
            "Confusion Matrix:\n",
            " [[507, 77], [89, 116]]\n",
            "Epoch: 19 | train_loss: 0.3709 | train_acc: 0.8498 | test_loss: 0.5346 | test_acc: 0.7749\n",
            "Precision per class: [0.87732342 0.55378486]\n",
            "Recall per class:    [0.80821918 0.67804878]\n",
            "F1-score per class:  [0.84135472 0.60964912]\n",
            "AUC-ROC (ovr):       0.8194286668894085\n",
            "Confusion Matrix:\n",
            " [[472, 112], [66, 139]]\n",
            "Epoch: 20 | train_loss: 0.3449 | train_acc: 0.8606 | test_loss: 0.5696 | test_acc: 0.7999\n",
            "Precision per class: [0.864494   0.61165049]\n",
            "Recall per class:    [0.8630137  0.61463415]\n",
            "F1-score per class:  [0.86375321 0.61313869]\n",
            "AUC-ROC (ovr):       0.8168810557968594\n",
            "Confusion Matrix:\n",
            " [[504, 80], [79, 126]]\n",
            "Epoch: 21 | train_loss: 0.3076 | train_acc: 0.9022 | test_loss: 0.5644 | test_acc: 0.7918\n",
            "Precision per class: [0.86561955 0.59259259]\n",
            "Recall per class:    [0.84931507 0.62439024]\n",
            "F1-score per class:  [0.8573898  0.60807601]\n",
            "AUC-ROC (ovr):       0.8131556966254593\n",
            "Confusion Matrix:\n",
            " [[496, 88], [77, 128]]\n",
            "Epoch: 22 | train_loss: 0.3464 | train_acc: 0.8578 | test_loss: 0.5662 | test_acc: 0.7930\n",
            "Precision per class: [0.86458333 0.59624413]\n",
            "Recall per class:    [0.85273973 0.6195122 ]\n",
            "F1-score per class:  [0.85862069 0.6076555 ]\n",
            "AUC-ROC (ovr):       0.8184513865686601\n",
            "Confusion Matrix:\n",
            " [[498, 86], [78, 127]]\n",
            "Epoch: 23 | train_loss: 0.3674 | train_acc: 0.8518 | test_loss: 0.5526 | test_acc: 0.7718\n",
            "Precision per class: [0.87384045 0.548     ]\n",
            "Recall per class:    [0.80650685 0.66829268]\n",
            "F1-score per class:  [0.83882458 0.6021978 ]\n",
            "AUC-ROC (ovr):       0.8117440694954895\n",
            "Confusion Matrix:\n",
            " [[471, 113], [68, 137]]\n",
            "Epoch: 24 | train_loss: 0.3831 | train_acc: 0.8381 | test_loss: 0.5453 | test_acc: 0.7893\n",
            "Precision per class: [0.88117002 0.5785124 ]\n",
            "Recall per class:    [0.82534247 0.68292683]\n",
            "F1-score per class:  [0.85234306 0.62639821]\n",
            "AUC-ROC (ovr):       0.8171065820247244\n",
            "Confusion Matrix:\n",
            " [[482, 102], [65, 140]]\n",
            "Epoch: 25 | train_loss: 0.3644 | train_acc: 0.8586 | test_loss: 0.5534 | test_acc: 0.7655\n",
            "Precision per class: [0.87429644 0.5390625 ]\n",
            "Recall per class:    [0.79794521 0.67317073]\n",
            "F1-score per class:  [0.8343778  0.59869848]\n",
            "AUC-ROC (ovr):       0.8128132308720348\n",
            "Confusion Matrix:\n",
            " [[466, 118], [67, 138]]\n",
            "Epoch: 26 | train_loss: 0.3507 | train_acc: 0.8478 | test_loss: 0.5814 | test_acc: 0.7943\n",
            "Precision per class: [0.86736475 0.59722222]\n",
            "Recall per class:    [0.8510274  0.62926829]\n",
            "F1-score per class:  [0.85911841 0.6128266 ]\n",
            "AUC-ROC (ovr):       0.8098229201470096\n",
            "Confusion Matrix:\n",
            " [[497, 87], [76, 129]]\n",
            "Epoch: 27 | train_loss: 0.3591 | train_acc: 0.8401 | test_loss: 0.5984 | test_acc: 0.8018\n",
            "Precision per class: [0.87001733 0.61320755]\n",
            "Recall per class:    [0.85958904 0.63414634]\n",
            "F1-score per class:  [0.86477175 0.6235012 ]\n",
            "AUC-ROC (ovr):       0.8120781824256599\n",
            "Confusion Matrix:\n",
            " [[502, 82], [75, 130]]\n",
            "Epoch: 28 | train_loss: 0.3716 | train_acc: 0.8542 | test_loss: 0.5568 | test_acc: 0.7917\n",
            "Precision per class: [0.87769784 0.58798283]\n",
            "Recall per class:    [0.83561644 0.66829268]\n",
            "F1-score per class:  [0.85614035 0.62557078]\n",
            "AUC-ROC (ovr):       0.8184680922151688\n",
            "Confusion Matrix:\n",
            " [[488, 96], [68, 137]]\n",
            "Epoch: 29 | train_loss: 0.3651 | train_acc: 0.8646 | test_loss: 0.5249 | test_acc: 0.7548\n",
            "Precision per class: [0.88109162 0.52173913]\n",
            "Recall per class:    [0.7739726  0.70243902]\n",
            "F1-score per class:  [0.82406563 0.5987526 ]\n",
            "AUC-ROC (ovr):       0.8280404276645507\n",
            "Confusion Matrix:\n",
            " [[452, 132], [61, 144]]\n",
            "Epoch: 30 | train_loss: 0.3673 | train_acc: 0.8486 | test_loss: 0.5631 | test_acc: 0.7886\n",
            "Precision per class: [0.87298748 0.5826087 ]\n",
            "Recall per class:    [0.83561644 0.65365854]\n",
            "F1-score per class:  [0.85389326 0.61609195]\n",
            "AUC-ROC (ovr):       0.8146592048112263\n",
            "Confusion Matrix:\n",
            " [[488, 96], [71, 134]]\n",
            "Epoch: 31 | train_loss: 0.3410 | train_acc: 0.8722 | test_loss: 0.5576 | test_acc: 0.7905\n",
            "Precision per class: [0.88       0.58158996]\n",
            "Recall per class:    [0.82876712 0.67804878]\n",
            "F1-score per class:  [0.85361552 0.62612613]\n",
            "AUC-ROC (ovr):       0.8156030738389576\n",
            "Confusion Matrix:\n",
            " [[484, 100], [66, 139]]\n",
            "Epoch: 32 | train_loss: 0.3122 | train_acc: 0.8774 | test_loss: 0.5796 | test_acc: 0.7768\n",
            "Precision per class: [0.86932849 0.55882353]\n",
            "Recall per class:    [0.82020548 0.64878049]\n",
            "F1-score per class:  [0.84405286 0.60045147]\n",
            "AUC-ROC (ovr):       0.8086368192449047\n",
            "Confusion Matrix:\n",
            " [[479, 105], [72, 133]]\n",
            "Epoch: 33 | train_loss: 0.3210 | train_acc: 0.8802 | test_loss: 0.5917 | test_acc: 0.8049\n",
            "Precision per class: [0.87326389 0.61971831]\n",
            "Recall per class:    [0.86130137 0.64390244]\n",
            "F1-score per class:  [0.86724138 0.63157895]\n",
            "AUC-ROC (ovr):       0.8179502171734047\n",
            "Confusion Matrix:\n",
            " [[503, 81], [73, 132]]\n",
            "Epoch: 34 | train_loss: 0.3356 | train_acc: 0.8774 | test_loss: 0.5556 | test_acc: 0.7818\n",
            "Precision per class: [0.88268156 0.56349206]\n",
            "Recall per class:    [0.81164384 0.69268293]\n",
            "F1-score per class:  [0.84567351 0.6214442 ]\n",
            "AUC-ROC (ovr):       0.8135566321416638\n",
            "Confusion Matrix:\n",
            " [[474, 110], [63, 142]]\n",
            "Epoch: 35 | train_loss: 0.3340 | train_acc: 0.8794 | test_loss: 0.5917 | test_acc: 0.8037\n",
            "Precision per class: [0.86896552 0.61722488]\n",
            "Recall per class:    [0.8630137  0.62926829]\n",
            "F1-score per class:  [0.86597938 0.62318841]\n",
            "AUC-ROC (ovr):       0.8180337454059472\n",
            "Confusion Matrix:\n",
            " [[504, 80], [76, 129]]\n",
            "Epoch: 36 | train_loss: 0.3205 | train_acc: 0.8782 | test_loss: 0.5606 | test_acc: 0.7943\n",
            "Precision per class: [0.8765653  0.59130435]\n",
            "Recall per class:    [0.8390411  0.66341463]\n",
            "F1-score per class:  [0.85739283 0.62528736]\n",
            "AUC-ROC (ovr):       0.8217758102238557\n",
            "Confusion Matrix:\n",
            " [[490, 94], [69, 136]]\n",
            "Epoch: 37 | train_loss: 0.3262 | train_acc: 0.8662 | test_loss: 0.5703 | test_acc: 0.8012\n",
            "Precision per class: [0.87765957 0.60444444]\n",
            "Recall per class:    [0.84760274 0.66341463]\n",
            "F1-score per class:  [0.86236934 0.63255814]\n",
            "AUC-ROC (ovr):       0.8219011025726695\n",
            "Confusion Matrix:\n",
            " [[495, 89], [69, 136]]\n",
            "Epoch: 38 | train_loss: 0.3587 | train_acc: 0.8666 | test_loss: 0.6065 | test_acc: 0.8018\n",
            "Precision per class: [0.87001733 0.61320755]\n",
            "Recall per class:    [0.85958904 0.63414634]\n",
            "F1-score per class:  [0.86477175 0.6235012 ]\n",
            "AUC-ROC (ovr):       0.8104660875375878\n",
            "Confusion Matrix:\n",
            " [[502, 82], [75, 130]]\n",
            "Epoch: 39 | train_loss: 0.3245 | train_acc: 0.8782 | test_loss: 0.5858 | test_acc: 0.8018\n",
            "Precision per class: [0.87001733 0.61320755]\n",
            "Recall per class:    [0.85958904 0.63414634]\n",
            "F1-score per class:  [0.86477175 0.6235012 ]\n",
            "AUC-ROC (ovr):       0.817799866354828\n",
            "Confusion Matrix:\n",
            " [[502, 82], [75, 130]]\n",
            "Epoch: 40 | train_loss: 0.3008 | train_acc: 0.8882 | test_loss: 0.5800 | test_acc: 0.8074\n",
            "Precision per class: [0.87740806 0.61926606]\n",
            "Recall per class:    [0.85787671 0.65853659]\n",
            "F1-score per class:  [0.86753247 0.63829787]\n",
            "AUC-ROC (ovr):       0.818284330103575\n",
            "Confusion Matrix:\n",
            " [[501, 83], [70, 135]]\n",
            "Epoch: 41 | train_loss: 0.3049 | train_acc: 0.8854 | test_loss: 0.6317 | test_acc: 0.8024\n",
            "Precision per class: [0.86495726 0.61764706]\n",
            "Recall per class:    [0.86643836 0.61463415]\n",
            "F1-score per class:  [0.86569718 0.61613692]\n",
            "AUC-ROC (ovr):       0.8077681256264618\n",
            "Confusion Matrix:\n",
            " [[506, 78], [79, 126]]\n",
            "Epoch: 42 | train_loss: 0.3594 | train_acc: 0.8766 | test_loss: 0.5698 | test_acc: 0.7892\n",
            "Precision per class: [0.87725632 0.58297872]\n",
            "Recall per class:    [0.83219178 0.66829268]\n",
            "F1-score per class:  [0.85413005 0.62272727]\n",
            "AUC-ROC (ovr):       0.8148095556298028\n",
            "Confusion Matrix:\n",
            " [[486, 98], [68, 137]]\n",
            "Epoch: 43 | train_loss: 0.3489 | train_acc: 0.8530 | test_loss: 0.5996 | test_acc: 0.8024\n",
            "Precision per class: [0.87152778 0.61502347]\n",
            "Recall per class:    [0.85958904 0.63902439]\n",
            "F1-score per class:  [0.86551724 0.62679426]\n",
            "AUC-ROC (ovr):       0.8154360173738723\n",
            "Confusion Matrix:\n",
            " [[502, 82], [74, 131]]\n",
            "Epoch: 44 | train_loss: 0.3183 | train_acc: 0.8650 | test_loss: 0.6132 | test_acc: 0.7843\n",
            "Precision per class: [0.85913043 0.57943925]\n",
            "Recall per class:    [0.84589041 0.60487805]\n",
            "F1-score per class:  [0.85245902 0.59188544]\n",
            "AUC-ROC (ovr):       0.8101653859004343\n",
            "Confusion Matrix:\n",
            " [[494, 90], [81, 124]]\n",
            "Epoch: 45 | train_loss: 0.3379 | train_acc: 0.8902 | test_loss: 0.5564 | test_acc: 0.7880\n",
            "Precision per class: [0.87681159 0.57805907]\n",
            "Recall per class:    [0.82876712 0.66829268]\n",
            "F1-score per class:  [0.85211268 0.6199095 ]\n",
            "AUC-ROC (ovr):       0.822168392916806\n",
            "Confusion Matrix:\n",
            " [[484, 100], [68, 137]]\n",
            "Epoch: 46 | train_loss: 0.3187 | train_acc: 0.8846 | test_loss: 0.5669 | test_acc: 0.7774\n",
            "Precision per class: [0.87202925 0.55785124]\n",
            "Recall per class:    [0.81678082 0.65853659]\n",
            "F1-score per class:  [0.84350133 0.60402685]\n",
            "AUC-ROC (ovr):       0.8164801202806549\n",
            "Confusion Matrix:\n",
            " [[477, 107], [70, 135]]\n",
            "Epoch: 47 | train_loss: 0.3034 | train_acc: 0.8774 | test_loss: 0.6102 | test_acc: 0.8030\n",
            "Precision per class: [0.87152778 0.61502347]\n",
            "Recall per class:    [0.85958904 0.63902439]\n",
            "F1-score per class:  [0.86551724 0.62679426]\n",
            "AUC-ROC (ovr):       0.8128299365185434\n",
            "Confusion Matrix:\n",
            " [[502, 82], [74, 131]]\n",
            "Epoch: 48 | train_loss: 0.3049 | train_acc: 0.8846 | test_loss: 0.5873 | test_acc: 0.7874\n",
            "Precision per class: [0.86725664 0.58035714]\n",
            "Recall per class:    [0.8390411  0.63414634]\n",
            "F1-score per class:  [0.85291558 0.60606061]\n",
            "AUC-ROC (ovr):       0.8150267290344136\n",
            "Confusion Matrix:\n",
            " [[490, 94], [75, 130]]\n",
            "Epoch: 49 | train_loss: 0.3041 | train_acc: 0.8770 | test_loss: 0.5672 | test_acc: 0.7843\n",
            "Precision per class: [0.87207207 0.57264957]\n",
            "Recall per class:    [0.82876712 0.65365854]\n",
            "F1-score per class:  [0.84986831 0.61047836]\n",
            "AUC-ROC (ovr):       0.8226779151353156\n",
            "Confusion Matrix:\n",
            " [[484, 100], [71, 134]]\n",
            "Epoch: 50 | train_loss: 0.2900 | train_acc: 0.8930 | test_loss: 0.6364 | test_acc: 0.7961\n",
            "Precision per class: [0.85191348 0.61702128]\n",
            "Recall per class:    [0.87671233 0.56585366]\n",
            "F1-score per class:  [0.86413502 0.59033079]\n",
            "AUC-ROC (ovr):       0.8144921483461409\n",
            "Confusion Matrix:\n",
            " [[512, 72], [89, 116]]\n"
          ]
        }
      ],
      "source": [
        "torch.manual_seed(42)\n",
        "torch.cuda.manual_seed(42)\n",
        "results, metrics_dict, full_train_info, full_test_info=train(model=model,\n",
        "             train_dataloader=train_dataloader,\n",
        "             test_dataloader=val_dataloader,\n",
        "             optimizer=optimizer,\n",
        "             scheduler=scheduler,\n",
        "             loss_fn=loss_fn,\n",
        "             epochs=50,\n",
        "             device=device)"
      ]
    },
    {
      "cell_type": "code",
      "execution_count": null,
      "metadata": {
        "colab": {
          "base_uri": "https://localhost:8080/",
          "height": 607
        },
        "id": "K8dLT0RMRA0R",
        "outputId": "7106ea98-c063-47dd-b4ad-e45bbf12a70c"
      },
      "outputs": [
        {
          "data": {
            "image/png": "[encoded data removed]",
            "text/plain": [
              "<Figure size 1800x600 with 3 Axes>"
            ]
          },
          "metadata": {},
          "output_type": "display_data"
        }
      ],
      "source": [
        "import matplotlib.pyplot as plt\n",
        "\n",
        "plt.figure(figsize=(18,6))\n",
        "\n",
        "# Loss curves\n",
        "plt.subplot(1,3,1)\n",
        "plt.plot(results['train_loss'], c='r', label=\"Train Loss\")\n",
        "plt.plot(results['test_loss'], c='g', label=\"Test Loss\")\n",
        "plt.xlabel(\"Epoch\")\n",
        "plt.ylabel(\"Loss\")\n",
        "plt.title(\"Loss over Epochs\")\n",
        "plt.legend()\n",
        "\n",
        "# Accuracy curves\n",
        "plt.subplot(1,3,2)\n",
        "plt.plot(results['train_acc'], c='r', label=\"Train Accuracy\")\n",
        "plt.plot(results['test_acc'], c='g', label=\"Test Accuracy\")\n",
        "plt.xlabel(\"Epoch\")\n",
        "plt.ylabel(\"Accuracy\")\n",
        "plt.title(\"Accuracy over Epochs\")\n",
        "plt.legend()\n",
        "\n",
        "# AUC and F1 curves\n",
        "plt.subplot(1,3,3)\n",
        "plt.plot(results['auc_roc'], c='b', label=\"AUC-ROC\")\n",
        "f1_class1 = [f[1] for f in results['f1']]\n",
        "\n",
        "plt.plot(f1_class1, c='m', label=\"F1 (Class 1)\")\n",
        "plt.xlabel(\"Epoch\")\n",
        "plt.ylabel(\"Score\")\n",
        "plt.title(\"AUC-ROC and F1 over Epochs\")\n",
        "plt.legend()\n",
        "\n",
        "plt.tight_layout()\n",
        "plt.show()\n"
      ]
    },
    {
      "cell_type": "markdown",
      "metadata": {
        "id": "1f3XzWh0bH4O"
      },
      "source": [
        "# IMAGE ONLY RESULTS\n",
        "\n",
        "![image.png](data:image/png;base64,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)"
      ]
    },
    {
      "cell_type": "code",
      "execution_count": null,
      "metadata": {
        "id": "o37rrP2pf5eP"
      },
      "outputs": [],
      "source": [
        "# ---------- Train ----------\n",
        "labels = full_train_info[\"labels\"]\n",
        "metadata = full_train_info[\"metadata\"]\n",
        "ids = full_train_info[\"ids\"]\n",
        "probs = full_train_info[\"probs\"]  # shape: (N, 2)\n",
        "\n",
        "# Create column names for metadata\n",
        "num_features = metadata.shape[1]\n",
        "metadata_cols = [f\"meta_{i}\" for i in range(num_features)]\n",
        "\n",
        "# Build the DataFrame\n",
        "df_train = pd.DataFrame(metadata, columns=metadata_cols)\n",
        "df_train[\"label\"] = labels\n",
        "# df_train[\"id\"] = ids\n",
        "df_train[\"prob_class_0\"] = probs[:, 0]\n",
        "df_train[\"prob_class_1\"] = probs[:, 1]\n",
        "\n",
        "# ---------- Validation/Test ----------\n",
        "val_labels = full_test_info[\"labels\"]\n",
        "val_metadata = full_test_info[\"metadata\"]\n",
        "val_ids = full_test_info[\"ids\"]\n",
        "val_probs = full_test_info[\"probs\"]  # shape: (N, 2)\n",
        "\n",
        "# Create column names for metadata\n",
        "num_val_features = val_metadata.shape[1]\n",
        "val_metadata_cols = [f\"meta_{i}\" for i in range(num_val_features)]\n",
        "\n",
        "# Build the DataFrame\n",
        "df_val = pd.DataFrame(val_metadata, columns=val_metadata_cols)\n",
        "df_val[\"label\"] = val_labels\n",
        "# df_val[\"id\"] = val_ids\n",
        "df_val[\"prob_class_0\"] = val_probs[:, 0]\n",
        "df_val[\"prob_class_1\"] = val_probs[:, 1]\n"
      ]
    },
    {
      "cell_type": "code",
      "execution_count": null,
      "metadata": {
        "colab": {
          "base_uri": "https://localhost:8080/"
        },
        "id": "bAoJFPwprYJT",
        "outputId": "f9ee8fb0-37d5-4abb-8d33-c7d700dd4b29"
      },
      "outputs": [
        {
          "data": {
            "text/plain": [
              "(np.float64(805.0), np.float64(-6.538323879241943))"
            ]
          },
          "execution_count": 106,
          "metadata": {},
          "output_type": "execute_result"
        }
      ],
      "source": [
        "df_train.to_numpy().max(),df_train.to_numpy().min()"
      ]
    },
    {
      "cell_type": "code",
      "execution_count": null,
      "metadata": {
        "id": "jJ52InmFf7KP"
      },
      "outputs": [],
      "source": [
        "X_train=df_train.drop(\"label\",axis=1)\n",
        "X_val=df_val.drop(\"label\",axis=1)\n",
        "y_train=df_train['label']\n",
        "y_val=df_val['label']"
      ]
    },
    {
      "cell_type": "markdown",
      "metadata": {
        "id": "HF_LxpzXrhtS"
      },
      "source": [
        "# getting data ready for ML Models"
      ]
    },
    {
      "cell_type": "code",
      "execution_count": null,
      "metadata": {
        "id": "TzM8z7fYlpmF"
      },
      "outputs": [],
      "source": [
        "train_df=train_df.reset_index()"
      ]
    },
    {
      "cell_type": "code",
      "execution_count": null,
      "metadata": {
        "id": "MJ88P1LKPGhb"
      },
      "outputs": [],
      "source": [
        "from sklearn.metrics import classification_report\n",
        "from sklearn.model_selection import cross_val_score\n",
        "import numpy as np\n",
        "import time\n",
        "from sklearn.metrics import classification_report, roc_auc_score\n",
        "from sklearn.model_selection import cross_val_score\n",
        "import numpy as np\n",
        "import time\n",
        "\n",
        "def get_model_report(model_name, scaler, X_train, y_train, X_test, y_test, seed=42):\n",
        "    # Scale data\n",
        "    scaled_X_train = scaler.fit_transform(X_train)\n",
        "    scaled_X_test = scaler.transform(X_test)\n",
        "\n",
        "    # Initialize model\n",
        "    model = model_name(random_state=seed, class_weight='balanced')\n",
        "\n",
        "    # Measure training time\n",
        "    start_train = time.time()\n",
        "    model.fit(scaled_X_train, y_train)\n",
        "    train_time = time.time() - start_train\n",
        "\n",
        "    # Measure inference time\n",
        "    start_infer = time.time()\n",
        "    pred = model.predict(scaled_X_test)\n",
        "    infer_time = time.time() - start_infer\n",
        "\n",
        "    # Get probabilities or decision function\n",
        "    try:\n",
        "        pred_proba = model.predict_proba(scaled_X_test)[:, 1]\n",
        "    except AttributeError:\n",
        "        try:\n",
        "            pred_proba = model.decision_function(scaled_X_test)\n",
        "        except AttributeError:\n",
        "            pred_proba = None\n",
        "\n",
        "    # Compute AUC if possible\n",
        "    if pred_proba is not None:\n",
        "        auc_score = roc_auc_score(y_test, pred_proba)\n",
        "    else:\n",
        "        auc_score = \"N/A (no proba/decision_function)\"\n",
        "\n",
        "    # Classification report and cross-validation\n",
        "    report = classification_report(y_test, pred)\n",
        "    # cv = cross_val_score(model, scaled_X_train, y_train, cv=5, scoring='f1_macro')\n",
        "    # cv = np.round(cv.mean(), 2)\n",
        "\n",
        "    print(f'Train Time:{train_time:.4f} | Inference Time:{infer_time:.4f} | AUC: {auc_score}')\n",
        "\n",
        "    return report, model.__class__.__name__, pred"
      ]
    },
    {
      "cell_type": "markdown",
      "metadata": {
        "id": "ozxnBZdnHrpr"
      },
      "source": [
        "# RandomForestClassifier"
      ]
    },
    {
      "cell_type": "code",
      "execution_count": null,
      "metadata": {
        "colab": {
          "base_uri": "https://localhost:8080/"
        },
        "id": "LjIlDXx44BJ9",
        "outputId": "d4bd4b58-6f90-43ab-bc96-75b839da373d"
      },
      "outputs": [
        {
          "name": "stdout",
          "output_type": "stream",
          "text": [
            "Train Time:0.2978 | Inference Time:0.0110 | AUC: 0.9157367190110257\n",
            "              precision    recall  f1-score   support\n",
            "\n",
            "           0       0.84      0.97      0.90       584\n",
            "           1       0.85      0.48      0.61       205\n",
            "\n",
            "    accuracy                           0.84       789\n",
            "   macro avg       0.84      0.73      0.76       789\n",
            "weighted avg       0.84      0.84      0.83       789\n",
            "\n"
          ]
        }
      ],
      "source": [
        "rfc_rep,rfc,rfc_pred=get_model_report(RandomForestClassifier,StandardScaler(),X_train, y_train, X_val, y_val)\n",
        "print(rfc_rep)"
      ]
    },
    {
      "cell_type": "markdown",
      "metadata": {
        "id": "D8c5YiDT5-fu"
      },
      "source": [
        "# LGBMClassifier"
      ]
    },
    {
      "cell_type": "code",
      "execution_count": null,
      "metadata": {
        "colab": {
          "base_uri": "https://localhost:8080/"
        },
        "id": "Tc6FL0LSHdoZ",
        "outputId": "a677b2e0-365a-46c6-8149-c024475b56fd"
      },
      "outputs": [
        {
          "name": "stdout",
          "output_type": "stream",
          "text": [
            "[LightGBM] [Info] Number of positive: 168, number of negative: 638\n",
            "[LightGBM] [Info] Auto-choosing col-wise multi-threading, the overhead of testing was 0.000547 seconds.\n",
            "You can set `force_col_wise=true` to remove the overhead.\n",
            "[LightGBM] [Info] Total Bins 9143\n",
            "[LightGBM] [Info] Number of data points in the train set: 806, number of used features: 46\n",
            "[LightGBM] [Info] [binary:BoostFromScore]: pavg=0.500000 -> initscore=0.000000\n",
            "[LightGBM] [Info] Start training from score 0.000000\n",
            "[LightGBM] [Warning] No further splits with positive gain, best gain: -inf\n",
            "[LightGBM] [Warning] No further splits with positive gain, best gain: -inf\n",
            "[LightGBM] [Warning] No further splits with positive gain, best gain: -inf\n",
            "[LightGBM] [Warning] No further splits with positive gain, best gain: -inf\n"
          ]
        },
        {
          "name": "stderr",
          "output_type": "stream",
          "text": [
            "/usr/local/lib/python3.11/dist-packages/sklearn/utils/deprecation.py:151: FutureWarning: 'force_all_finite' was renamed to 'ensure_all_finite' in 1.6 and will be removed in 1.8.\n",
            "  warnings.warn(\n"
          ]
        },
        {
          "name": "stdout",
          "output_type": "stream",
          "text": [
            "Train Time:0.3120 | Inference Time:0.0086 | AUC: 0.9262445706648847\n",
            "              precision    recall  f1-score   support\n",
            "\n",
            "           0       0.89      0.96      0.92       584\n",
            "           1       0.84      0.66      0.74       205\n",
            "\n",
            "    accuracy                           0.88       789\n",
            "   macro avg       0.86      0.81      0.83       789\n",
            "weighted avg       0.88      0.88      0.87       789\n",
            "\n"
          ]
        },
        {
          "name": "stderr",
          "output_type": "stream",
          "text": [
            "/usr/local/lib/python3.11/dist-packages/sklearn/utils/deprecation.py:151: FutureWarning: 'force_all_finite' was renamed to 'ensure_all_finite' in 1.6 and will be removed in 1.8.\n",
            "  warnings.warn(\n",
            "/usr/local/lib/python3.11/dist-packages/sklearn/utils/deprecation.py:151: FutureWarning: 'force_all_finite' was renamed to 'ensure_all_finite' in 1.6 and will be removed in 1.8.\n",
            "  warnings.warn(\n"
          ]
        }
      ],
      "source": [
        "lgbm_rep,lgbm,lgbm_pred=get_model_report(LGBMClassifier,StandardScaler(),X_train, y_train, X_val, y_val)\n",
        "print(lgbm_rep)"
      ]
    },
    {
      "cell_type": "markdown",
      "metadata": {
        "id": "AuPvsT0WWHrF"
      },
      "source": [
        "# support vector classifier"
      ]
    },
    {
      "cell_type": "code",
      "execution_count": null,
      "metadata": {
        "colab": {
          "base_uri": "https://localhost:8080/"
        },
        "id": "AxWaumK1VfR3",
        "outputId": "60e41d5d-78c3-4855-d1da-2edb14d0b830"
      },
      "outputs": [
        {
          "name": "stdout",
          "output_type": "stream",
          "text": [
            "Train Time:0.0169 | Inference Time:0.0260 | AUC: 0.911602071500167\n",
            "              precision    recall  f1-score   support\n",
            "\n",
            "           0       0.89      0.93      0.91       584\n",
            "           1       0.77      0.66      0.71       205\n",
            "\n",
            "    accuracy                           0.86       789\n",
            "   macro avg       0.83      0.80      0.81       789\n",
            "weighted avg       0.86      0.86      0.86       789\n",
            "\n"
          ]
        }
      ],
      "source": [
        "svc_rep,svc,svc_pred=get_model_report(SVC,StandardScaler(),X_train, y_train, X_val, y_val)\n",
        "print(svc_rep)"
      ]
    },
    {
      "cell_type": "markdown",
      "metadata": {
        "id": "Y4WgVzE5-IWX"
      },
      "source": [
        "# LogisticRegression"
      ]
    },
    {
      "cell_type": "code",
      "execution_count": null,
      "metadata": {
        "colab": {
          "base_uri": "https://localhost:8080/"
        },
        "id": "ArUcLxiA6ubV",
        "outputId": "0a17dd64-f0f8-49e7-c388-6004bf76fe84"
      },
      "outputs": [
        {
          "name": "stdout",
          "output_type": "stream",
          "text": [
            "Train Time:0.0104 | Inference Time:0.0004 | AUC: 0.8719345138656865\n",
            "              precision    recall  f1-score   support\n",
            "\n",
            "           0       0.90      0.83      0.87       584\n",
            "           1       0.61      0.75      0.67       205\n",
            "\n",
            "    accuracy                           0.81       789\n",
            "   macro avg       0.76      0.79      0.77       789\n",
            "weighted avg       0.83      0.81      0.81       789\n",
            "\n"
          ]
        }
      ],
      "source": [
        "logr_rep,logr,logr_pred=get_model_report(LogisticRegression,StandardScaler(),X_train, y_train, X_val, y_val)\n",
        "print(logr_rep)"
      ]
    },
    {
      "cell_type": "markdown",
      "metadata": {
        "id": "Uc38FzR8ChvS"
      },
      "source": [
        "# CONFUSION MATRIX"
      ]
    },
    {
      "cell_type": "code",
      "execution_count": null,
      "metadata": {
        "colab": {
          "base_uri": "https://localhost:8080/",
          "height": 1000
        },
        "id": "nK5B1hg5r8Q7",
        "outputId": "93807b6d-3fbd-4039-9a87-a84a95f9545e"
      },
      "outputs": [
        {
          "data": {
            "image/png": "[encoded data removed]",
            "text/plain": [
              "<Figure size 1200x1000 with 8 Axes>"
            ]
          },
          "metadata": {},
          "output_type": "display_data"
        }
      ],
      "source": [
        "label_names = list(label_dict.values())\n",
        "label_names\n",
        "def get_conf_matrix(predictions, model_name, i):\n",
        "    cm = confusion_matrix(y_val, predictions)\n",
        "    sns.heatmap(cm, annot=True, fmt='d', cmap='coolwarm', linewidths=.5, ax=ax[i],xticklabels=label_names, yticklabels=label_names)\n",
        "\n",
        "    ax[i].set_title(model_name)\n",
        "    ax[i].set_xlabel('Predicted Label')\n",
        "    ax[i].set_ylabel('True Label')\n",
        "\n",
        "\n",
        "fig, ax = plt.subplots(2, 2, figsize=(12, 10))\n",
        "ax = ax.flatten()\n",
        "\n",
        "get_conf_matrix(rfc_pred, \"RandomForestClassifier\", 0)\n",
        "get_conf_matrix(logr_pred, \"LogisticRegression\", 1)\n",
        "get_conf_matrix(svc_pred, \"Support Vector Classifier\", 2)\n",
        "get_conf_matrix(lgbm_pred, \"LGBMClassifier\", 3)\n",
        "\n",
        "plt.tight_layout()\n",
        "plt.show()"
      ]
    },
    {
      "cell_type": "code",
      "execution_count": null,
      "metadata": {
        "colab": {
          "base_uri": "https://localhost:8080/"
        },
        "id": "BYoumQpClABH",
        "outputId": "52bc4b8b-f801-43b9-bcc6-fc543e5f8658"
      },
      "outputs": [
        {
          "data": {
            "text/plain": [
              "{'precision': array([0.85191348, 0.61702128]),\n",
              " 'recall': array([0.87671233, 0.56585366]),\n",
              " 'f1': array([0.86413502, 0.59033079]),\n",
              " 'auc_roc': np.float64(0.8144921483461409)}"
            ]
          },
          "execution_count": 115,
          "metadata": {},
          "output_type": "execute_result"
        }
      ],
      "source": [
        "metrics_dict"
      ]
    }
  ],
  "metadata": {
    "accelerator": "GPU",
    "colab": {
      "collapsed_sections": [
        "8_2lVSfhSHvd",
        "TuTBGAUZSF_0"
      ],
      "gpuType": "T4",
      "provenance": [],
      "include_colab_link": true
    },
    "kernelspec": {
      "display_name": "Python 3",
      "name": "python3"
    },
    "language_info": {
      "name": "python"
    }
  },
  "nbformat": 4,
  "nbformat_minor": 0
}